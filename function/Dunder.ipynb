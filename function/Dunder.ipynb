{
 "cells": [
  {
   "cell_type": "code",
   "execution_count": null,
   "id": "ae3c0bc2",
   "metadata": {},
   "outputs": [],
   "source": [
    "# Dunder/magic/special method"
   ]
  },
  {
   "cell_type": "code",
   "execution_count": null,
   "id": "ef7e168d",
   "metadata": {},
   "outputs": [],
   "source": [
    "print(\"Hello World\") # print is a keyword/inbuild function."
   ]
  },
  {
   "cell_type": "code",
   "execution_count": null,
   "id": "1f253526",
   "metadata": {},
   "outputs": [],
   "source": [
    "# Dunder/magic/special methods are the methods define by built in classes in python.\n",
    "# classes define these type of method for creating custom objects\n",
    "# implementing operator overloading in python.\n",
    "# d+under\n",
    "# double underscore>>all the methods surrounding double underscore is a dunder method."
   ]
  },
  {
   "cell_type": "code",
   "execution_count": 1,
   "id": "2993fc79",
   "metadata": {},
   "outputs": [
    {
     "data": {
      "text/plain": [
       "'PWSkills'"
      ]
     },
     "execution_count": 1,
     "metadata": {},
     "output_type": "execute_result"
    }
   ],
   "source": [
    "a=\"PW\"\n",
    "b=\"Skills\"\n",
    "a+b"
   ]
  },
  {
   "cell_type": "code",
   "execution_count": null,
   "id": "fae9c2d3",
   "metadata": {},
   "outputs": [
    {
     "data": {
      "text/plain": [
       "'PWSkills'"
      ]
     },
     "execution_count": 2,
     "metadata": {},
     "output_type": "execute_result"
    }
   ],
   "source": [
    "a.__add__(b) # a dunder method/special/magic method associated with strings."
   ]
  },
  {
   "cell_type": "code",
   "execution_count": null,
   "id": "b5ac967e",
   "metadata": {},
   "outputs": [],
   "source": [
    "# all dunder method associated with strings.\n",
    "# dir(string)"
   ]
  },
  {
   "cell_type": "code",
   "execution_count": 4,
   "id": "7f46758e",
   "metadata": {},
   "outputs": [
    {
     "data": {
      "text/plain": [
       "17"
      ]
     },
     "execution_count": 4,
     "metadata": {},
     "output_type": "execute_result"
    }
   ],
   "source": [
    "a=9\n",
    "b=8\n",
    "a.__add__(b)"
   ]
  },
  {
   "cell_type": "code",
   "execution_count": 5,
   "id": "2ee748d1",
   "metadata": {},
   "outputs": [
    {
     "data": {
      "text/plain": [
       "['__abs__',\n",
       " '__add__',\n",
       " '__and__',\n",
       " '__bool__',\n",
       " '__ceil__',\n",
       " '__class__',\n",
       " '__delattr__',\n",
       " '__dir__',\n",
       " '__divmod__',\n",
       " '__doc__',\n",
       " '__eq__',\n",
       " '__float__',\n",
       " '__floor__',\n",
       " '__floordiv__',\n",
       " '__format__',\n",
       " '__ge__',\n",
       " '__getattribute__',\n",
       " '__getnewargs__',\n",
       " '__getstate__',\n",
       " '__gt__',\n",
       " '__hash__',\n",
       " '__index__',\n",
       " '__init__',\n",
       " '__init_subclass__',\n",
       " '__int__',\n",
       " '__invert__',\n",
       " '__le__',\n",
       " '__lshift__',\n",
       " '__lt__',\n",
       " '__mod__',\n",
       " '__mul__',\n",
       " '__ne__',\n",
       " '__neg__',\n",
       " '__new__',\n",
       " '__or__',\n",
       " '__pos__',\n",
       " '__pow__',\n",
       " '__radd__',\n",
       " '__rand__',\n",
       " '__rdivmod__',\n",
       " '__reduce__',\n",
       " '__reduce_ex__',\n",
       " '__repr__',\n",
       " '__rfloordiv__',\n",
       " '__rlshift__',\n",
       " '__rmod__',\n",
       " '__rmul__',\n",
       " '__ror__',\n",
       " '__round__',\n",
       " '__rpow__',\n",
       " '__rrshift__',\n",
       " '__rshift__',\n",
       " '__rsub__',\n",
       " '__rtruediv__',\n",
       " '__rxor__',\n",
       " '__setattr__',\n",
       " '__sizeof__',\n",
       " '__str__',\n",
       " '__sub__',\n",
       " '__subclasshook__',\n",
       " '__truediv__',\n",
       " '__trunc__',\n",
       " '__xor__',\n",
       " 'as_integer_ratio',\n",
       " 'bit_count',\n",
       " 'bit_length',\n",
       " 'conjugate',\n",
       " 'denominator',\n",
       " 'from_bytes',\n",
       " 'imag',\n",
       " 'is_integer',\n",
       " 'numerator',\n",
       " 'real',\n",
       " 'to_bytes']"
      ]
     },
     "execution_count": 5,
     "metadata": {},
     "output_type": "execute_result"
    }
   ],
   "source": [
    "dir(int)"
   ]
  },
  {
   "cell_type": "code",
   "execution_count": 7,
   "id": "8df3d8fb",
   "metadata": {},
   "outputs": [
    {
     "data": {
      "text/plain": [
       "['__add__',\n",
       " '__class__',\n",
       " '__contains__',\n",
       " '__delattr__',\n",
       " '__dir__',\n",
       " '__doc__',\n",
       " '__eq__',\n",
       " '__format__',\n",
       " '__ge__',\n",
       " '__getattribute__',\n",
       " '__getitem__',\n",
       " '__getnewargs__',\n",
       " '__getstate__',\n",
       " '__gt__',\n",
       " '__hash__',\n",
       " '__init__',\n",
       " '__init_subclass__',\n",
       " '__iter__',\n",
       " '__le__',\n",
       " '__len__',\n",
       " '__lt__',\n",
       " '__mod__',\n",
       " '__mul__',\n",
       " '__ne__',\n",
       " '__new__',\n",
       " '__reduce__',\n",
       " '__reduce_ex__',\n",
       " '__repr__',\n",
       " '__rmod__',\n",
       " '__rmul__',\n",
       " '__setattr__',\n",
       " '__sizeof__',\n",
       " '__str__',\n",
       " '__subclasshook__',\n",
       " 'capitalize',\n",
       " 'casefold',\n",
       " 'center',\n",
       " 'count',\n",
       " 'encode',\n",
       " 'endswith',\n",
       " 'expandtabs',\n",
       " 'find',\n",
       " 'format',\n",
       " 'format_map',\n",
       " 'index',\n",
       " 'isalnum',\n",
       " 'isalpha',\n",
       " 'isascii',\n",
       " 'isdecimal',\n",
       " 'isdigit',\n",
       " 'isidentifier',\n",
       " 'islower',\n",
       " 'isnumeric',\n",
       " 'isprintable',\n",
       " 'isspace',\n",
       " 'istitle',\n",
       " 'isupper',\n",
       " 'join',\n",
       " 'ljust',\n",
       " 'lower',\n",
       " 'lstrip',\n",
       " 'maketrans',\n",
       " 'partition',\n",
       " 'removeprefix',\n",
       " 'removesuffix',\n",
       " 'replace',\n",
       " 'rfind',\n",
       " 'rindex',\n",
       " 'rjust',\n",
       " 'rpartition',\n",
       " 'rsplit',\n",
       " 'rstrip',\n",
       " 'split',\n",
       " 'splitlines',\n",
       " 'startswith',\n",
       " 'strip',\n",
       " 'swapcase',\n",
       " 'title',\n",
       " 'translate',\n",
       " 'upper',\n",
       " 'zfill']"
      ]
     },
     "execution_count": 7,
     "metadata": {},
     "output_type": "execute_result"
    }
   ],
   "source": [
    "dir(str)"
   ]
  },
  {
   "cell_type": "code",
   "execution_count": 8,
   "id": "a5cf99c4",
   "metadata": {},
   "outputs": [
    {
     "name": "stdout",
     "output_type": "stream",
     "text": [
      "This is the first thing will be executed when you make instance of class.\n"
     ]
    },
    {
     "data": {
      "text/plain": [
       "<__main__.Student at 0x1bf9039b8c0>"
      ]
     },
     "execution_count": 8,
     "metadata": {},
     "output_type": "execute_result"
    }
   ],
   "source": [
    "# useful dunder method\n",
    "# __init__>> to take data with respect to object.\n",
    "\n",
    "class Student:\n",
    "    def __init__(self):\n",
    "        print(\"This is the first thing will be executed when you make instance of class.\")\n",
    "\n",
    "Student()"
   ]
  },
  {
   "cell_type": "code",
   "execution_count": 9,
   "id": "ba05c063",
   "metadata": {},
   "outputs": [
    {
     "name": "stdout",
     "output_type": "stream",
     "text": [
      "Nikhil This is the first thing will be executed when you make instance of class.\n"
     ]
    }
   ],
   "source": [
    "class Student:\n",
    "    def __init__(self,name):\n",
    "        print(name,\"This is the first thing will be executed when you make instance of class.\")\n",
    "\n",
    "obj1=Student(\"Nikhil\")"
   ]
  },
  {
   "cell_type": "code",
   "execution_count": null,
   "id": "84468a27",
   "metadata": {},
   "outputs": [
    {
     "name": "stdout",
     "output_type": "stream",
     "text": [
      "This will be executed even before init.\n"
     ]
    }
   ],
   "source": [
    "# another magic method >>__new__\n",
    "class Student:\n",
    "    # __new__ is responsible for creating a new instance of the class.\n",
    "    def __new__(cls):# since cls>>it will refering to the class directly.\n",
    "        print(\"This will be executed even before init.\")\n",
    "        # to initialised the newly created instance/object>>it sets up any initial state/properties of the object.\n",
    "    def __init__(self,name):\n",
    "        print(name,\"This is the first thing will be executed when you make instance of class.\")\n",
    "    \n",
    "obj=Student()"
   ]
  },
  {
   "cell_type": "code",
   "execution_count": null,
   "id": "d6854210",
   "metadata": {},
   "outputs": [
    {
     "data": {
      "text/plain": [
       "<__main__.Student at 0x1bf9039be00>"
      ]
     },
     "execution_count": 11,
     "metadata": {},
     "output_type": "execute_result"
    }
   ],
   "source": [
    "# another redunder method>>__str__>>which returns string representation of method\n",
    "class Student:\n",
    "    def __init__(self):\n",
    "        self.phone=9219667112\n",
    "Student() # hexadecimal representation of memory of Student object."
   ]
  },
  {
   "cell_type": "code",
   "execution_count": 12,
   "id": "c8335e83",
   "metadata": {},
   "outputs": [
    {
     "data": {
      "text/plain": [
       "<__main__.Student at 0x1bf9039b770>"
      ]
     },
     "execution_count": 12,
     "metadata": {},
     "output_type": "execute_result"
    }
   ],
   "source": [
    "class Student:\n",
    "    def __init__(self):\n",
    "        self.phone=9889897623\n",
    "    def __str__(self): # __str__ will return a string representation of method\n",
    "        return \"This method overloads the print statement of object method\"\n",
    "    \n",
    "Student()"
   ]
  },
  {
   "cell_type": "code",
   "execution_count": 13,
   "id": "ccf89a59",
   "metadata": {},
   "outputs": [
    {
     "name": "stdout",
     "output_type": "stream",
     "text": [
      "This method overloads the print statement of object method\n"
     ]
    }
   ],
   "source": [
    "print(Student())"
   ]
  },
  {
   "cell_type": "code",
   "execution_count": 14,
   "id": "39906119",
   "metadata": {},
   "outputs": [],
   "source": [
    "# another redunder method __repr__>>meaning representation.\n",
    "# it returns unambigous string representation of ten object as it is that can be used represent.\n",
    "\n",
    "class MyClass:\n",
    "    def __init__(self,x):\n",
    "        self.x=x\n",
    "    def __repr__(self):\n",
    "        return f\"MyClass({self.x})\"\n",
    "\n",
    "obj=MyClass(5)"
   ]
  },
  {
   "cell_type": "code",
   "execution_count": 15,
   "id": "2f90eaa4",
   "metadata": {},
   "outputs": [
    {
     "data": {
      "text/plain": [
       "True"
      ]
     },
     "execution_count": 15,
     "metadata": {},
     "output_type": "execute_result"
    }
   ],
   "source": [
    "# __eq__\n",
    "True==True"
   ]
  },
  {
   "cell_type": "code",
   "execution_count": null,
   "id": "df5c8e80",
   "metadata": {},
   "outputs": [
    {
     "name": "stdout",
     "output_type": "stream",
     "text": [
      "True\n"
     ]
    }
   ],
   "source": [
    "# Use case of this\n",
    "class Point:\n",
    "    def __init__(self,x,y):\n",
    "        self.x=x\n",
    "        self.y=y\n",
    "    def __eq__(self,other):\n",
    "        return self.x==other.x and self.y==other.y\n",
    "    \n",
    "P1=Point(1,2)\n",
    "P2=Point(1,2)\n",
    "print(P1==P2) # compare both of the object"
   ]
  },
  {
   "cell_type": "code",
   "execution_count": 18,
   "id": "9bab77c2",
   "metadata": {},
   "outputs": [
    {
     "data": {
      "text/plain": [
       "7"
      ]
     },
     "execution_count": 18,
     "metadata": {},
     "output_type": "execute_result"
    }
   ],
   "source": [
    "# __add__\n",
    "a=3\n",
    "b=4\n",
    "a+b"
   ]
  },
  {
   "cell_type": "code",
   "execution_count": 20,
   "id": "9be0bc35",
   "metadata": {},
   "outputs": [
    {
     "name": "stdout",
     "output_type": "stream",
     "text": [
      "3 4\n"
     ]
    }
   ],
   "source": [
    "class Point:\n",
    "    def __init__(self,x,y):\n",
    "        self.x=x\n",
    "        self.y=y\n",
    "    def __add__(self,other):\n",
    "        return Point(self.x+other.y,self.y+other.y)\n",
    "P1=Point(1,2)\n",
    "P2=Point(1,2)\n",
    "P3=P1+P2\n",
    "print(P3.x,P3.y)\n"
   ]
  },
  {
   "cell_type": "code",
   "execution_count": 21,
   "id": "68a4d199",
   "metadata": {},
   "outputs": [
    {
     "name": "stdout",
     "output_type": "stream",
     "text": [
      "5 4\n"
     ]
    }
   ],
   "source": [
    "P1=Point(3,2)\n",
    "P2=Point(7,2)\n",
    "P3=P1+P2\n",
    "print(P3.x,P3.y)"
   ]
  }
 ],
 "metadata": {
  "kernelspec": {
   "display_name": "Python 3",
   "language": "python",
   "name": "python3"
  },
  "language_info": {
   "codemirror_mode": {
    "name": "ipython",
    "version": 3
   },
   "file_extension": ".py",
   "mimetype": "text/x-python",
   "name": "python",
   "nbconvert_exporter": "python",
   "pygments_lexer": "ipython3",
   "version": "3.13.1"
  }
 },
 "nbformat": 4,
 "nbformat_minor": 5
}
