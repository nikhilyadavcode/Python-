{
 "cells": [
  {
   "cell_type": "code",
   "execution_count": null,
   "id": "838160c9",
   "metadata": {},
   "outputs": [],
   "source": [
    "# decorators>>allow to modify or extend the behavior or function/class withot directly modifying their original code.\n",
    "# similar to you decorating your room(putting different Lights,sticker,posters)>>extends/decorates the basic behaviour room.\n",
    "#  "
   ]
  },
  {
   "cell_type": "code",
   "execution_count": null,
   "id": "e62eb894",
   "metadata": {},
   "outputs": [],
   "source": [
    "# function decorator and class decorator\n",
    "# function decorators"
   ]
  },
  {
   "cell_type": "code",
   "execution_count": null,
   "id": "eac9ae87",
   "metadata": {},
   "outputs": [
    {
     "name": "stdout",
     "output_type": "stream",
     "text": [
      "This line before computation.\n",
      "13200\n",
      "This line after computation\n"
     ]
    }
   ],
   "source": [
    "# To understand use case>>say you want to use the line before computation and after computation.\n",
    "# after each time you create a function or call function.So it will take a lot of time to type the line repeatatively.\n",
    "# And that why the concept of decorators comes into the picture.\n",
    "def my_decorators_func():\n",
    "    print(\"This line before computation.\")\n",
    "    print(11*1200)\n",
    "    print(\"This line after computation\")\n",
    "my_decorators_func()\n",
    "# In the above approch you have to write all the lines as many times as you are creating a function.\n",
    "# lets see the decorator approch."
   ]
  },
  {
   "cell_type": "code",
   "execution_count": null,
   "id": "fc9ec233",
   "metadata": {},
   "outputs": [
    {
     "name": "stdout",
     "output_type": "stream",
     "text": [
      "The line before computation.\n",
      "Hello\n",
      "The line after computation\n"
     ]
    }
   ],
   "source": [
    "# decorator approch for function>>use case\n",
    "def my_decorator(func): # decorators function that takes another function as arguments.\n",
    "    def wrapper(): # adds the functionality before and after calling func.\n",
    "        print(\"The line before computation.\")\n",
    "        func() # say_hello which is the func here will be executed here\n",
    "        print(\"The line after computation\")\n",
    "    return wrapper\n",
    "\n",
    "@my_decorator # syntax to decorate the say hello function.\n",
    "def say_hello():\n",
    "    print(\"Hello\")\n",
    "\n",
    "say_hello() # when say_hello is called,it is actually first calling the decorator method\n",
    "# which is return is calling wrapper function and then the wrapped function the line and calling the say_hello function."
   ]
  },
  {
   "cell_type": "code",
   "execution_count": 11,
   "id": "a7653a93",
   "metadata": {},
   "outputs": [
    {
     "name": "stdout",
     "output_type": "stream",
     "text": [
      "12353\n",
      "The time for executing the code 0.0009343624114990234\n"
     ]
    }
   ],
   "source": [
    "# another use case of function decorator.\n",
    "# run time of a code.\n",
    "\n",
    "import time\n",
    "def timer_decorators(func):\n",
    "    def timer():\n",
    "        start=time.time()\n",
    "        func()\n",
    "        end=time.time()\n",
    "        print(\"The time for executing the code\",end-start)\n",
    "    return timer\n",
    "\n",
    "@timer_decorators\n",
    "def func_test():\n",
    "    print(11*1123)\n",
    "\n",
    "func_test()\n"
   ]
  },
  {
   "cell_type": "code",
   "execution_count": 12,
   "id": "4015e9b2",
   "metadata": {},
   "outputs": [
    {
     "name": "stdout",
     "output_type": "stream",
     "text": [
      "1123000\n",
      "The time for executing the code 0.0002315044403076172\n"
     ]
    }
   ],
   "source": [
    "@timer_decorators\n",
    "def func_test1():\n",
    "    print(1100000+1000*23)\n",
    "\n",
    "func_test1()"
   ]
  },
  {
   "cell_type": "code",
   "execution_count": null,
   "id": "cf46dfb0",
   "metadata": {},
   "outputs": [],
   "source": [
    "# why do we need decorators?\n",
    "# Reusability of code>>reuse the common code\n",
    "# Enhancing the function without modifying the original function.\n",
    "#use case>>execution time of code,logging,cating,validation.\n"
   ]
  },
  {
   "cell_type": "code",
   "execution_count": null,
   "id": "2b7f1f29",
   "metadata": {},
   "outputs": [
    {
     "name": "stdout",
     "output_type": "stream",
     "text": [
      "Something is happening before function.\n",
      "Hello\n",
      "Something is happening after function\n"
     ]
    }
   ],
   "source": [
    "# class decorator>>\n",
    "class MyDecorator:\n",
    "    def __init__(self,func): # similar to function decorator you are passing func,in the classes.\n",
    "        self.func=func\n",
    "        print(\"Inside the init method\")\n",
    "    def __call__(self): # __call__ is special method which is called/invoked when you call instance/onject of the class instance of the as a function.\n",
    "        print(\"Something is happening before function.\")\n",
    "        self.func()\n",
    "        print(\"Something is happening after function\")\n",
    "\n",
    "@MyDecorator # class call will be executed as the object if the class will be called as function>>so first __init__method will be executed.\n",
    "def say_hello():\n",
    "    print(\"Hello\")\n",
    "say_hello()"
   ]
  },
  {
   "cell_type": "code",
   "execution_count": null,
   "id": "0c7543eb",
   "metadata": {},
   "outputs": [],
   "source": [
    "# __call__ is special method which is called/invoked when you call instance/onject of the class instance of the as a function."
   ]
  },
  {
   "cell_type": "code",
   "execution_count": 14,
   "id": "eff2f431",
   "metadata": {},
   "outputs": [
    {
     "name": "stdout",
     "output_type": "stream",
     "text": [
      "Inside the init method\n"
     ]
    }
   ],
   "source": [
    "class MyDecorator:\n",
    "    def __init__(self): # similar to function decorator you are passing func,in the classes.\n",
    "        #self.func=func\n",
    "        print(\"Inside the init method\")\n",
    "    def __call__(self): # __call__ is special method which is called/invoked when you call instance/onject of the class instance of the as a function.\n",
    "        print(\"Something is happening before function.\")\n",
    "        print(\"Something is happening after function\")\n",
    "\n",
    "\n",
    "obj1=MyDecorator() # when you make an object of the class,init is executed first"
   ]
  },
  {
   "cell_type": "code",
   "execution_count": null,
   "id": "a9ba8f42",
   "metadata": {},
   "outputs": [],
   "source": [
    "# some inbuit decorator\n",
    "# @classmethod>> The method that takes the class itself as the first arguments.\n"
   ]
  },
  {
   "cell_type": "code",
   "execution_count": 16,
   "id": "4c5245aa",
   "metadata": {},
   "outputs": [
    {
     "data": {
      "text/plain": [
       "('Math', 10)"
      ]
     },
     "execution_count": 16,
     "metadata": {},
     "output_type": "execute_result"
    }
   ],
   "source": [
    "class Math:\n",
    "    @classmethod # takes reference to the class itself to modify and access class level attributes.\n",
    "    def add(cls,x,y):\n",
    "        return cls.__name__,x+y # cls.__name__>> class Math\n",
    "    \n",
    "\n",
    "Math.add(3,7)\n"
   ]
  },
  {
   "cell_type": "code",
   "execution_count": null,
   "id": "a4a68d7d",
   "metadata": {},
   "outputs": [],
   "source": [
    "# class method is bound to class and not the instance of the class,\n",
    "# class itself as the first arguments>>conventionally cls"
   ]
  },
  {
   "cell_type": "code",
   "execution_count": 17,
   "id": "70e003af",
   "metadata": {},
   "outputs": [],
   "source": [
    "# next inbuild decorator is static metho\n",
    "# static method>>the method which can be called creating any instance of class,and without using any self and cls.\n",
    "class Math:\n",
    "    def add(self,x,y):\n",
    "        return x+y\n",
    "    \n",
    "    a=Math() # make object/instance\n",
    "    a.add(2,3) # this is the way to call regular class method."
   ]
  },
  {
   "cell_type": "code",
   "execution_count": 19,
   "id": "bd10bfd2",
   "metadata": {},
   "outputs": [
    {
     "data": {
      "text/plain": [
       "5"
      ]
     },
     "execution_count": 19,
     "metadata": {},
     "output_type": "execute_result"
    }
   ],
   "source": [
    "# use of static method\n",
    "class math:\n",
    "    @staticmethod\n",
    "    def add(x,y):# no need of self and cls\n",
    "        return x+y\n",
    "\n",
    "math.add(2,3) # no need of making any object"
   ]
  },
  {
   "cell_type": "code",
   "execution_count": null,
   "id": "079ace8a",
   "metadata": {},
   "outputs": [],
   "source": [
    "# class method to be used when you want to modify class level data.\n",
    "# static method>>when you want to interact with class level data."
   ]
  },
  {
   "cell_type": "code",
   "execution_count": null,
   "id": "7827b3ab",
   "metadata": {},
   "outputs": [],
   "source": [
    "# property decorator>>it allows method to be accessed as attribute.\n",
    "class Circle:\n",
    "    def __init__(self,radius):\n",
    "        self.radius=radius\n",
    "\n",
    "obj=Circle(6)\n",
    "obj.radius()"
   ]
  },
  {
   "cell_type": "code",
   "execution_count": 21,
   "id": "2ac80e1d",
   "metadata": {},
   "outputs": [
    {
     "data": {
      "text/plain": [
       "5"
      ]
     },
     "execution_count": 21,
     "metadata": {},
     "output_type": "execute_result"
    }
   ],
   "source": [
    "class Circle:\n",
    "    def __init__(self,radius):\n",
    "        self.radius=radius\n",
    "    def area(self):\n",
    "        radius=self.radius\n",
    "        return 3.14*radius**2\n",
    "\n",
    "obj=Circle(5)\n",
    "obj.radius\n"
   ]
  },
  {
   "cell_type": "code",
   "execution_count": 22,
   "id": "3a01c9fb",
   "metadata": {},
   "outputs": [
    {
     "data": {
      "text/plain": [
       "78.5"
      ]
     },
     "execution_count": 22,
     "metadata": {},
     "output_type": "execute_result"
    }
   ],
   "source": [
    "obj.area()"
   ]
  },
  {
   "cell_type": "code",
   "execution_count": null,
   "id": "99ab90de",
   "metadata": {},
   "outputs": [
    {
     "data": {
      "text/plain": [
       "50.24"
      ]
     },
     "execution_count": 25,
     "metadata": {},
     "output_type": "execute_result"
    }
   ],
   "source": [
    "# using property decorator\n",
    "class Circle:\n",
    "    def __init__(self,radius):\n",
    "        self.radius=radius\n",
    "    @property\n",
    "    def area(self):\n",
    "        radius=self.radius\n",
    "        return 3.14*radius**2\n",
    "obj1=Circle(4)\n",
    "obj1.radius\n",
    "obj1.area # no need of parenthesis"
   ]
  },
  {
   "cell_type": "code",
   "execution_count": null,
   "id": "c7fdf30b",
   "metadata": {},
   "outputs": [],
   "source": []
  }
 ],
 "metadata": {
  "kernelspec": {
   "display_name": "Python 3",
   "language": "python",
   "name": "python3"
  },
  "language_info": {
   "codemirror_mode": {
    "name": "ipython",
    "version": 3
   },
   "file_extension": ".py",
   "mimetype": "text/x-python",
   "name": "python",
   "nbconvert_exporter": "python",
   "pygments_lexer": "ipython3",
   "version": "3.13.1"
  }
 },
 "nbformat": 4,
 "nbformat_minor": 5
}
