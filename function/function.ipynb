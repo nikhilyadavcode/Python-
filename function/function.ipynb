{
 "cells": [
  {
   "cell_type": "code",
   "execution_count": 21,
   "id": "91f30c06",
   "metadata": {},
   "outputs": [
    {
     "data": {
      "text/plain": [
       "5"
      ]
     },
     "execution_count": 21,
     "metadata": {},
     "output_type": "execute_result"
    }
   ],
   "source": [
    "# Built in function\n",
    "# ceil =>roof=> to round up a number to the nearest integer\n",
    "# floor=> ground => to round down a number to the nearest integer\n",
    "\n",
    "import math as m\n",
    "m.ceil(4.2)"
   ]
  },
  {
   "cell_type": "code",
   "execution_count": 22,
   "id": "238ae69c",
   "metadata": {},
   "outputs": [
    {
     "data": {
      "text/plain": [
       "6"
      ]
     },
     "execution_count": 22,
     "metadata": {},
     "output_type": "execute_result"
    }
   ],
   "source": [
    "import math as m\n",
    "m.floor(6.5)\n"
   ]
  },
  {
   "cell_type": "code",
   "execution_count": 23,
   "id": "89ac32ab",
   "metadata": {},
   "outputs": [],
   "source": [
    "# User defined function\n",
    "# syntax of function\n",
    "# def func():\n",
    "  #do something>>body of function"
   ]
  },
  {
   "cell_type": "code",
   "execution_count": 24,
   "id": "74c3d884",
   "metadata": {},
   "outputs": [
    {
     "name": "stdout",
     "output_type": "stream",
     "text": [
      "Hello World\n"
     ]
    }
   ],
   "source": [
    "# function is a block of code which is used to perform a specific task.\n",
    "# why function?>> function are reusable ,neat,clean and organised.\n",
    "\n",
    "def greet():\n",
    "    print(\"Hello World\")\n",
    "\n",
    "greet()"
   ]
  },
  {
   "cell_type": "code",
   "execution_count": 25,
   "id": "0621c401",
   "metadata": {},
   "outputs": [
    {
     "name": "stdout",
     "output_type": "stream",
     "text": [
      "Hello,Nikhil\n"
     ]
    }
   ],
   "source": [
    "print(\"Hello,Nikhil\")"
   ]
  },
  {
   "cell_type": "code",
   "execution_count": 26,
   "id": "7b96e979",
   "metadata": {},
   "outputs": [],
   "source": [
    "def greetings(name):\n",
    "    print(\"Welcome to the office\",name)\n",
    "    greetings(\"Nikhil\")"
   ]
  },
  {
   "cell_type": "code",
   "execution_count": 27,
   "id": "dff391ea",
   "metadata": {},
   "outputs": [
    {
     "data": {
      "text/plain": [
       "'This is my first function in python'"
      ]
     },
     "execution_count": 27,
     "metadata": {},
     "output_type": "execute_result"
    }
   ],
   "source": [
    "def func():\n",
    "    return \"This is my first function\"\n",
    "\n",
    "func() + \" in python\""
   ]
  },
  {
   "cell_type": "code",
   "execution_count": 28,
   "id": "68ef2f0f",
   "metadata": {},
   "outputs": [
    {
     "data": {
      "text/plain": [
       "25"
      ]
     },
     "execution_count": 28,
     "metadata": {},
     "output_type": "execute_result"
    }
   ],
   "source": [
    "def square_num(num):\n",
    "    return num*num\n",
    "\n",
    "square_num(5)"
   ]
  },
  {
   "cell_type": "code",
   "execution_count": 29,
   "id": "6bb1adf1",
   "metadata": {},
   "outputs": [
    {
     "name": "stdout",
     "output_type": "stream",
     "text": [
      "Sum = 16\n"
     ]
    }
   ],
   "source": [
    "from ipywidgets import interact\n",
    "def add_Two_num():\n",
    "    a = int(input(\"Enter first number: \"))\n",
    "    b = int(input(\"Enter second number: \"))\n",
    "    print(\"Sum =\", a + b)\n",
    "\n",
    "add_Two_num()\n"
   ]
  },
  {
   "cell_type": "code",
   "execution_count": null,
   "id": "f6a4e280",
   "metadata": {},
   "outputs": [],
   "source": [
    "def add_number():\n",
    "    a=int(input(\"Enter the first number\"))\n",
    "    b=int(input(\"Enter the second number\"))\n",
    "    return a+b\n",
    "add_number()"
   ]
  },
  {
   "cell_type": "code",
   "execution_count": 5,
   "id": "6ce493c8",
   "metadata": {},
   "outputs": [],
   "source": [
    "# Write a function that takes list as input and return all numeric values as a list.\n",
    "import ast\n",
    "def only_numeric(a):\n",
    "    n=[]\n",
    "    for i in a:\n",
    "        if type(i)==int or type(i)==float:\n",
    "            n.append(i)\n",
    "        return n  \n"
   ]
  },
  {
   "cell_type": "code",
   "execution_count": 3,
   "id": "86365ac6",
   "metadata": {},
   "outputs": [
    {
     "name": "stdout",
     "output_type": "stream",
     "text": [
      "[1, 2, 3, 4.5, 7]\n"
     ]
    }
   ],
   "source": [
    "# Now in input take nested List\n",
    "# Only_numeric ([1,2.2,\"Ajay\",true,3+7j,\"pwskills\",5,6,[100,101,\"Ajay\"]])\n",
    "\n",
    "\n",
    "import ast\n",
    "\n",
    "def only_numeric(a):\n",
    "    n = []\n",
    "    for i in a:\n",
    "        if type(i) == list:\n",
    "            for j in i:\n",
    "                if type(j) == int or type(j) == float:\n",
    "                    n.append(j)\n",
    "        else:\n",
    "            if type(i) == int or type(i) == float:\n",
    "                n.append(i)\n",
    "    return n\n",
    "\n",
    "# take input and safely convert it\n",
    "import ast\n",
    "a = ast.literal_eval(input(\"Enter a list: \"))\n",
    "print(only_numeric(a))\n"
   ]
  },
  {
   "cell_type": "code",
   "execution_count": 3,
   "id": "871b305a",
   "metadata": {},
   "outputs": [],
   "source": [
    "# A function which can take no of values and return their sum\n",
    "\n",
    "def sum1(*args):\n",
    "    s=0\n",
    "    for i in args:\n",
    "        s=s+i\n",
    "    return s"
   ]
  },
  {
   "cell_type": "code",
   "execution_count": 2,
   "id": "9efdfd74",
   "metadata": {},
   "outputs": [
    {
     "name": "stdout",
     "output_type": "stream",
     "text": [
      "1\n",
      "2\n",
      "3\n",
      "4\n",
      "5\n",
      "6\n",
      "7\n"
     ]
    }
   ],
   "source": [
    "for i in (1,2,3,4,5,6,7):\n",
    "    print(i)"
   ]
  },
  {
   "cell_type": "code",
   "execution_count": null,
   "id": "9c841e33",
   "metadata": {},
   "outputs": [],
   "source": [
    "# variable arguments >> takes any no of arguments\n",
    "# positional arguments>>fixed arguments"
   ]
  },
  {
   "cell_type": "code",
   "execution_count": 4,
   "id": "448e3b12",
   "metadata": {},
   "outputs": [
    {
     "data": {
      "text/plain": [
       "[[1, 2, 3], [4, 5, 6], [7, 8, 9]]"
      ]
     },
     "execution_count": 4,
     "metadata": {},
     "output_type": "execute_result"
    }
   ],
   "source": [
    "# write a function can take any no of values and return the list\n",
    "def return_list(*args):\n",
    "    l=[]\n",
    "    for i in args:\n",
    "        if type(i)==list:\n",
    "            l.append(i)\n",
    "    return l\n",
    "return_list([1,2,3],[4,5,6],\"Nikhil\",[7,8,9])"
   ]
  },
  {
   "cell_type": "code",
   "execution_count": 12,
   "id": "dc0cd09b",
   "metadata": {},
   "outputs": [
    {
     "name": "stdout",
     "output_type": "stream",
     "text": [
      "[{1, 2, 3}, {8, 9, 7}, {8, 9, 10}]\n"
     ]
    }
   ],
   "source": [
    "# Write a function can take any no of values and return the set\n",
    "\n",
    "def return_set(*args):\n",
    "    a=[]\n",
    "    for i in args:\n",
    "        if type(i)==set:\n",
    "            a.append(i)\n",
    "    return a\n",
    "\n",
    "\n",
    "print(return_set({1,2,3}, [4,5,6], {7,8,9}, [10,11,12], \"Nikhil\", \"Yadav\", {8,9,10}))"
   ]
  },
  {
   "cell_type": "code",
   "execution_count": 15,
   "id": "224cf4a7",
   "metadata": {},
   "outputs": [
    {
     "name": "stdout",
     "output_type": "stream",
     "text": [
      "Hello,welcome To the course\n"
     ]
    }
   ],
   "source": [
    "subpart=\" To the course\"\n",
    "def greet():\n",
    "    message=\"Hello,welcome\" + subpart\n",
    "    print(message)\n",
    "\n",
    "greet()"
   ]
  },
  {
   "cell_type": "code",
   "execution_count": null,
   "id": "65d85c2c",
   "metadata": {},
   "outputs": [],
   "source": [
    "# namespace scope\n",
    "# Local variable >> a function defined inside a function should be accessed in the function only.\n",
    "# global variable >> accesssed anywhere in the program."
   ]
  },
  {
   "cell_type": "code",
   "execution_count": 19,
   "id": "a48fbaf2",
   "metadata": {},
   "outputs": [
    {
     "data": {
      "text/plain": [
       "110"
      ]
     },
     "execution_count": 19,
     "metadata": {},
     "output_type": "execute_result"
    }
   ],
   "source": [
    "def marks_in_subject(**kwargs):\n",
    "    def total_marks(marks_list):\n",
    "        return sum(marks_list)\n",
    "    marks_list=[]\n",
    "    for sub,marks in kwargs.items():\n",
    "        marks_list.append(marks)\n",
    "\n",
    "    return marks_list\n",
    "\n",
    "marks_in_subject(a=90,b=20)\n",
    "sum([90,20])\n"
   ]
  },
  {
   "cell_type": "code",
   "execution_count": null,
   "id": "dce8edbf",
   "metadata": {},
   "outputs": [
    {
     "data": {
      "text/plain": [
       "240"
      ]
     },
     "execution_count": 21,
     "metadata": {},
     "output_type": "execute_result"
    }
   ],
   "source": [
    "# calling function from outside\n",
    "def total_marks(marks_list):\n",
    "    return sum(marks_list)\n",
    "def marks_in_subject(**kwargs):\n",
    "    merks_list=[]\n",
    "    for sub,marks in kwargs.items():\n",
    "        merks_list.append(marks)\n",
    "    return total_marks(merks_list)\n",
    "\n"
   ]
  },
  {
   "cell_type": "code",
   "execution_count": 22,
   "id": "26f7e55a",
   "metadata": {},
   "outputs": [
    {
     "data": {
      "text/plain": [
       "6"
      ]
     },
     "execution_count": 22,
     "metadata": {},
     "output_type": "execute_result"
    }
   ],
   "source": [
    "def find_power(num,power):\n",
    "    return num*power\n",
    "\n",
    "find_power(2,3)"
   ]
  },
  {
   "cell_type": "code",
   "execution_count": 1,
   "id": "ddb4411b",
   "metadata": {},
   "outputs": [
    {
     "name": "stdout",
     "output_type": "stream",
     "text": [
      "Apple\n",
      "Banana\n",
      "Mango\n",
      "Grapes\n"
     ]
    }
   ],
   "source": [
    "for i in [\"Apple\",\"Banana\",\"Mango\",\"Grapes\"]:\n",
    "    print(i)\n"
   ]
  },
  {
   "cell_type": "code",
   "execution_count": null,
   "id": "31056606",
   "metadata": {},
   "outputs": [],
   "source": [
    "# iterable>>\n",
    "# An iterable is any python objects/sequential structure that is capable of returning its elements one at a time,allowing it to be iterated over in a loop.\n",
    "# its member one at a time.\n",
    "# Permitting it to be iterated over in a for loop.\n",
    "#Example:list , tuples\n"
   ]
  },
  {
   "cell_type": "code",
   "execution_count": 2,
   "id": "7e10060f",
   "metadata": {},
   "outputs": [
    {
     "name": "stdout",
     "output_type": "stream",
     "text": [
      "1\n",
      "2\n",
      "Ajay\n"
     ]
    }
   ],
   "source": [
    "lis=[1,2,\"Ajay\"]\n",
    "for i in lis:\n",
    "    print(i)"
   ]
  },
  {
   "cell_type": "code",
   "execution_count": null,
   "id": "c83dc994",
   "metadata": {},
   "outputs": [],
   "source": [
    "# iteration>>\n",
    "# iteration is the process of looping through the element for an iterable (List,string).\n",
    "# using a loop\n",
    "# The process of returning each element one by one.\n"
   ]
  },
  {
   "cell_type": "code",
   "execution_count": 3,
   "id": "db953043",
   "metadata": {},
   "outputs": [
    {
     "name": "stdout",
     "output_type": "stream",
     "text": [
      "p\n",
      "w\n",
      "s\n",
      "k\n",
      "i\n",
      "l\n",
      "l\n",
      "s\n"
     ]
    }
   ],
   "source": [
    "for i in \"pwskills\":\n",
    "    print(i)"
   ]
  },
  {
   "cell_type": "code",
   "execution_count": null,
   "id": "e0c046a2",
   "metadata": {},
   "outputs": [],
   "source": [
    "# iterator >> an iterator is an object representing a stream of data;it returns one element at a time from the iterable when next() is called on it.\n",
    "# Analogy\n",
    "# potato(iterable)>> it can be cooked in original form\n",
    "# chop/wash the potato>>ready for cooking>>iterator\n",
    "# the process of cooking >> iteration "
   ]
  },
  {
   "cell_type": "code",
   "execution_count": 4,
   "id": "b0b35403",
   "metadata": {},
   "outputs": [
    {
     "name": "stdout",
     "output_type": "stream",
     "text": [
      "p\n",
      "w\n",
      "s\n",
      "k\n",
      "i\n",
      "l\n",
      "l\n",
      "s\n"
     ]
    }
   ],
   "source": [
    "s=\"pwskills\"\n",
    "for i in s:\n",
    "    print(i)"
   ]
  },
  {
   "cell_type": "code",
   "execution_count": 5,
   "id": "e95cfbb7",
   "metadata": {},
   "outputs": [
    {
     "data": {
      "text/plain": [
       "<str_ascii_iterator at 0x1ef43a04b80>"
      ]
     },
     "execution_count": 5,
     "metadata": {},
     "output_type": "execute_result"
    }
   ],
   "source": [
    "# python can i prepare s for iteration\n",
    "iter(s) # iterator objects"
   ]
  },
  {
   "cell_type": "code",
   "execution_count": 6,
   "id": "cf8464f6",
   "metadata": {},
   "outputs": [
    {
     "data": {
      "text/plain": [
       "'p'"
      ]
     },
     "execution_count": 6,
     "metadata": {},
     "output_type": "execute_result"
    }
   ],
   "source": [
    "next(iter(s))"
   ]
  },
  {
   "cell_type": "code",
   "execution_count": 9,
   "id": "aedd155d",
   "metadata": {},
   "outputs": [
    {
     "data": {
      "text/plain": [
       "'p'"
      ]
     },
     "execution_count": 9,
     "metadata": {},
     "output_type": "execute_result"
    }
   ],
   "source": [
    "next(iter(s))"
   ]
  },
  {
   "cell_type": "code",
   "execution_count": 10,
   "id": "86c6b4cf",
   "metadata": {},
   "outputs": [
    {
     "data": {
      "text/plain": [
       "[0, 1, 4, 9, 16, 25, 36, 49, 64, 81, 100, 121, 144]"
      ]
     },
     "execution_count": 10,
     "metadata": {},
     "output_type": "execute_result"
    }
   ],
   "source": [
    "# regular function calculates the square of the values and return in one go\n",
    "# since its returning in one go>>memory will be more and\n",
    "# it will a lot of execution time if there is lot of computation as all the\n",
    "# computation will be done first and then calculations will be returned in one go.\n",
    "def square_list(n):\n",
    "    result=[]\n",
    "    for i in range(n):\n",
    "        result.append(i**2)\n",
    "    return result\n",
    "\n",
    "square_list(13)"
   ]
  },
  {
   "cell_type": "code",
   "execution_count": 11,
   "id": "71718cdd",
   "metadata": {},
   "outputs": [
    {
     "data": {
      "text/plain": [
       "[25, 100, 225]"
      ]
     },
     "execution_count": 11,
     "metadata": {},
     "output_type": "execute_result"
    }
   ],
   "source": [
    "def square_list(n):\n",
    "    result=[]\n",
    "    for i in (n):\n",
    "        result.append(i**2)\n",
    "    return result\n",
    "\n",
    "square_list([5,10,15])"
   ]
  },
  {
   "cell_type": "code",
   "execution_count": 14,
   "id": "2531b9ba",
   "metadata": {},
   "outputs": [
    {
     "data": {
      "text/plain": [
       "<generator object square_generator at 0x000001EF4404AB50>"
      ]
     },
     "execution_count": 14,
     "metadata": {},
     "output_type": "execute_result"
    }
   ],
   "source": [
    "# can we have something to generate result one by one instead of one go\n",
    "# yield>>general function uses return statement but a generator function use yield statements.\n",
    "\n",
    "def square_generator(n):\n",
    "    for i in range(n):\n",
    "        yield i**2\n",
    "square_generator(10) # yield is creating a generator similar to iterator object\n"
   ]
  },
  {
   "cell_type": "code",
   "execution_count": 16,
   "id": "b3d6a1d2",
   "metadata": {},
   "outputs": [
    {
     "data": {
      "text/plain": [
       "0"
      ]
     },
     "execution_count": 16,
     "metadata": {},
     "output_type": "execute_result"
    }
   ],
   "source": [
    "gen=square_generator(10)\n",
    "next(gen)"
   ]
  },
  {
   "cell_type": "code",
   "execution_count": 17,
   "id": "c21c5087",
   "metadata": {},
   "outputs": [
    {
     "data": {
      "text/plain": [
       "1"
      ]
     },
     "execution_count": 17,
     "metadata": {},
     "output_type": "execute_result"
    }
   ],
   "source": [
    "next(gen)"
   ]
  },
  {
   "cell_type": "code",
   "execution_count": 18,
   "id": "46c5cbb5",
   "metadata": {},
   "outputs": [
    {
     "data": {
      "text/plain": [
       "4"
      ]
     },
     "execution_count": 18,
     "metadata": {},
     "output_type": "execute_result"
    }
   ],
   "source": [
    "next(gen)"
   ]
  },
  {
   "cell_type": "code",
   "execution_count": 19,
   "id": "677d428c",
   "metadata": {},
   "outputs": [
    {
     "data": {
      "text/plain": [
       "9"
      ]
     },
     "execution_count": 19,
     "metadata": {},
     "output_type": "execute_result"
    }
   ],
   "source": [
    "next(gen)"
   ]
  },
  {
   "cell_type": "code",
   "execution_count": 20,
   "id": "58a8e5e6",
   "metadata": {},
   "outputs": [
    {
     "data": {
      "text/plain": [
       "<generator object fib at 0x000001EF43A71EE0>"
      ]
     },
     "execution_count": 20,
     "metadata": {},
     "output_type": "execute_result"
    }
   ],
   "source": [
    "def fib(n):\n",
    "    a=0\n",
    "    b=1\n",
    "    for i in range(n):\n",
    "        yield a\n",
    "        a,b=b,a+b\n",
    "\n"
   ]
  },
  {
   "cell_type": "code",
   "execution_count": 21,
   "id": "53ad15fb",
   "metadata": {},
   "outputs": [
    {
     "data": {
      "text/plain": [
       "0"
      ]
     },
     "execution_count": 21,
     "metadata": {},
     "output_type": "execute_result"
    }
   ],
   "source": [
    "f=fib(10)\n",
    "next(f)"
   ]
  },
  {
   "cell_type": "code",
   "execution_count": 22,
   "id": "24813a8a",
   "metadata": {},
   "outputs": [
    {
     "data": {
      "text/plain": [
       "1"
      ]
     },
     "execution_count": 22,
     "metadata": {},
     "output_type": "execute_result"
    }
   ],
   "source": [
    "next(f)"
   ]
  },
  {
   "cell_type": "code",
   "execution_count": 23,
   "id": "8896f552",
   "metadata": {},
   "outputs": [
    {
     "data": {
      "text/plain": [
       "1"
      ]
     },
     "execution_count": 23,
     "metadata": {},
     "output_type": "execute_result"
    }
   ],
   "source": [
    "next(f)"
   ]
  },
  {
   "cell_type": "code",
   "execution_count": 24,
   "id": "95e13333",
   "metadata": {},
   "outputs": [
    {
     "data": {
      "text/plain": [
       "2"
      ]
     },
     "execution_count": 24,
     "metadata": {},
     "output_type": "execute_result"
    }
   ],
   "source": [
    "next(f)"
   ]
  },
  {
   "cell_type": "code",
   "execution_count": 25,
   "id": "17fe1da9",
   "metadata": {},
   "outputs": [
    {
     "data": {
      "text/plain": [
       "3"
      ]
     },
     "execution_count": 25,
     "metadata": {},
     "output_type": "execute_result"
    }
   ],
   "source": [
    "next(f)"
   ]
  },
  {
   "cell_type": "code",
   "execution_count": 26,
   "id": "e1d9575b",
   "metadata": {},
   "outputs": [
    {
     "data": {
      "text/plain": [
       "5"
      ]
     },
     "execution_count": 26,
     "metadata": {},
     "output_type": "execute_result"
    }
   ],
   "source": [
    "next(f)"
   ]
  },
  {
   "cell_type": "code",
   "execution_count": 27,
   "id": "e86a8298",
   "metadata": {},
   "outputs": [
    {
     "data": {
      "text/plain": [
       "8"
      ]
     },
     "execution_count": 27,
     "metadata": {},
     "output_type": "execute_result"
    }
   ],
   "source": [
    "next(f)"
   ]
  },
  {
   "cell_type": "code",
   "execution_count": null,
   "id": "dde1b272",
   "metadata": {},
   "outputs": [],
   "source": [
    "# Generator Function:\n",
    "# A generator function in python ia a special kind of function that allows you to generate a sequence of values over timr instead a sequence of values over time instead of returning them all at once.\n",
    "# It is used to create iterator in a simple and memory efficient way.\n",
    "\n",
    "\n",
    "# Syntax\n",
    " # def my_generator():\n",
    "   # yield value 1\n",
    "   # yield value 2\n",
    "   # yiels value 3"
   ]
  },
  {
   "cell_type": "code",
   "execution_count": 32,
   "id": "e768f367",
   "metadata": {},
   "outputs": [
    {
     "data": {
      "text/plain": [
       "1"
      ]
     },
     "execution_count": 32,
     "metadata": {},
     "output_type": "execute_result"
    }
   ],
   "source": [
    "def count_up_to(n):\n",
    "    i = 1\n",
    "    while i <= n:\n",
    "        yield i       # yields one value at a time\n",
    "        i += 1\n",
    "\n",
    "number = count_up_to(5)\n",
    "next(number)\n"
   ]
  },
  {
   "cell_type": "code",
   "execution_count": 33,
   "id": "10c3a2d0",
   "metadata": {},
   "outputs": [
    {
     "data": {
      "text/plain": [
       "2"
      ]
     },
     "execution_count": 33,
     "metadata": {},
     "output_type": "execute_result"
    }
   ],
   "source": [
    "next(number)"
   ]
  },
  {
   "cell_type": "code",
   "execution_count": 34,
   "id": "d21a1ee0",
   "metadata": {},
   "outputs": [
    {
     "data": {
      "text/plain": [
       "3"
      ]
     },
     "execution_count": 34,
     "metadata": {},
     "output_type": "execute_result"
    }
   ],
   "source": [
    "next(number)"
   ]
  }
 ],
 "metadata": {
  "kernelspec": {
   "display_name": "Python 3",
   "language": "python",
   "name": "python3"
  },
  "language_info": {
   "codemirror_mode": {
    "name": "ipython",
    "version": 3
   },
   "file_extension": ".py",
   "mimetype": "text/x-python",
   "name": "python",
   "nbconvert_exporter": "python",
   "pygments_lexer": "ipython3",
   "version": "3.13.1"
  }
 },
 "nbformat": 4,
 "nbformat_minor": 5
}
