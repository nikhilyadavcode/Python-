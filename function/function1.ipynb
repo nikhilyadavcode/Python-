{
 "cells": [
  {
   "cell_type": "code",
   "execution_count": null,
   "id": "4906d8d3",
   "metadata": {},
   "outputs": [],
   "source": [
    "# lambda function>>anonymous function \n",
    "# syntax\n",
    "# Lambda arguments:expression >> no need of return statements and define keyword\n"
   ]
  },
  {
   "cell_type": "code",
   "execution_count": 2,
   "id": "71dff114",
   "metadata": {},
   "outputs": [
    {
     "data": {
      "text/plain": [
       "4"
      ]
     },
     "execution_count": 2,
     "metadata": {},
     "output_type": "execute_result"
    }
   ],
   "source": [
    "def square(x):\n",
    "    return x**2\n",
    "\n",
    "square(2)"
   ]
  },
  {
   "cell_type": "code",
   "execution_count": 5,
   "id": "ae329d6e",
   "metadata": {},
   "outputs": [],
   "source": [
    "sq_lambda=lambda x: x**2"
   ]
  },
  {
   "cell_type": "code",
   "execution_count": 6,
   "id": "e3584837",
   "metadata": {},
   "outputs": [
    {
     "data": {
      "text/plain": [
       "4"
      ]
     },
     "execution_count": 6,
     "metadata": {},
     "output_type": "execute_result"
    }
   ],
   "source": [
    "sq_lambda(2)"
   ]
  },
  {
   "cell_type": "code",
   "execution_count": 13,
   "id": "b19b4c26",
   "metadata": {},
   "outputs": [
    {
     "data": {
      "text/plain": [
       "7"
      ]
     },
     "execution_count": 13,
     "metadata": {},
     "output_type": "execute_result"
    }
   ],
   "source": [
    "add =lambda a,b: a+b\n",
    "add(2,5)"
   ]
  },
  {
   "cell_type": "code",
   "execution_count": 14,
   "id": "2a0e0473",
   "metadata": {},
   "outputs": [
    {
     "data": {
      "text/plain": [
       "5"
      ]
     },
     "execution_count": 14,
     "metadata": {},
     "output_type": "execute_result"
    }
   ],
   "source": [
    "add(3,2)"
   ]
  },
  {
   "cell_type": "code",
   "execution_count": 15,
   "id": "223c9aca",
   "metadata": {},
   "outputs": [
    {
     "data": {
      "text/plain": [
       "True"
      ]
     },
     "execution_count": 15,
     "metadata": {},
     "output_type": "execute_result"
    }
   ],
   "source": [
    "is_even=lambda x:x%2==0\n",
    "is_even(6)"
   ]
  },
  {
   "cell_type": "code",
   "execution_count": null,
   "id": "838bf6ad",
   "metadata": {},
   "outputs": [
    {
     "data": {
      "text/plain": [
       "['DataScience', 'Python', 'c++', 'java', 'ruby']"
      ]
     },
     "execution_count": 17,
     "metadata": {},
     "output_type": "execute_result"
    }
   ],
   "source": [
    "x=[\"Python\",\"java\",\"c++\",\"ruby\",\"DataScience\"]\n",
    "sorted(x) # By default sorting based on alphabetical order"
   ]
  },
  {
   "cell_type": "code",
   "execution_count": 1,
   "id": "82a5e0d5",
   "metadata": {},
   "outputs": [
    {
     "name": "stdout",
     "output_type": "stream",
     "text": [
      "4\n"
     ]
    }
   ],
   "source": [
    "x=[\"Python\",\"java\",\"c++\",\"ruby\",\"DataScience\"]\n",
    "le = lambda x: len(x)\n",
    "print(le(\"Ajay\"))\n"
   ]
  },
  {
   "cell_type": "code",
   "execution_count": 2,
   "id": "60c99d14",
   "metadata": {},
   "outputs": [
    {
     "data": {
      "text/plain": [
       "['c++', 'java', 'ruby', 'Python', 'DataScience']"
      ]
     },
     "execution_count": 2,
     "metadata": {},
     "output_type": "execute_result"
    }
   ],
   "source": [
    "sorted(x,key=lambda x:len(x))"
   ]
  },
  {
   "cell_type": "code",
   "execution_count": 3,
   "id": "68bcde7b",
   "metadata": {},
   "outputs": [
    {
     "data": {
      "text/plain": [
       "[0, 1, 1, 2, 4, 7, 11, 16, 22, 29]"
      ]
     },
     "execution_count": 3,
     "metadata": {},
     "output_type": "execute_result"
    }
   ],
   "source": [
    "fib=lambda n: n if n<=1 else fib(n-1)+(n-2)\n",
    "[fib(i) for i in range(10)]\n"
   ]
  },
  {
   "cell_type": "code",
   "execution_count": 4,
   "id": "c954c4bc",
   "metadata": {},
   "outputs": [
    {
     "data": {
      "text/plain": [
       "120"
      ]
     },
     "execution_count": 4,
     "metadata": {},
     "output_type": "execute_result"
    }
   ],
   "source": [
    "def fact_num(n):\n",
    "    if n==0:\n",
    "        return 1\n",
    "    else:\n",
    "        return n*fact_num(n-1)\n",
    "    \n",
    "\n",
    "fact_num(5)"
   ]
  },
  {
   "cell_type": "code",
   "execution_count": 6,
   "id": "8435e292",
   "metadata": {},
   "outputs": [
    {
     "data": {
      "text/plain": [
       "120"
      ]
     },
     "execution_count": 6,
     "metadata": {},
     "output_type": "execute_result"
    }
   ],
   "source": [
    "fact_num=lambda n:1 if n==0 else n*fact_num(n-1)\n",
    "fact_num(5)\n"
   ]
  },
  {
   "cell_type": "code",
   "execution_count": 8,
   "id": "f43f5bb5",
   "metadata": {},
   "outputs": [
    {
     "data": {
      "text/plain": [
       "[1, 4, 9, 16, 25]"
      ]
     },
     "execution_count": 8,
     "metadata": {},
     "output_type": "execute_result"
    }
   ],
   "source": [
    "# map>> executes a specified function for each item of an iterable.\n",
    "# syntax >> map(fun,*iterables)\n",
    "\n",
    "l=[1,2,3,4,5]\n",
    "def square(l):\n",
    "    sq=[]\n",
    "    for i in l:\n",
    "        sq.append(i**2)\n",
    "    return sq\n",
    "\n",
    "square(l)"
   ]
  },
  {
   "cell_type": "code",
   "execution_count": 12,
   "id": "33b089f5",
   "metadata": {},
   "outputs": [
    {
     "data": {
      "text/plain": [
       "[11, 12, 13, 14, 15]"
      ]
     },
     "execution_count": 12,
     "metadata": {},
     "output_type": "execute_result"
    }
   ],
   "source": [
    "def add(x):\n",
    "    return x+10\n",
    "\n",
    "list(map(add,l))"
   ]
  },
  {
   "cell_type": "code",
   "execution_count": 13,
   "id": "f7ddadec",
   "metadata": {},
   "outputs": [
    {
     "data": {
      "text/plain": [
       "[-9, -8, -7, -6, -5]"
      ]
     },
     "execution_count": 13,
     "metadata": {},
     "output_type": "execute_result"
    }
   ],
   "source": [
    "def sub(x):\n",
    "    return x-10\n",
    "\n",
    "list(map(sub,l))"
   ]
  },
  {
   "cell_type": "code",
   "execution_count": 14,
   "id": "c596232e",
   "metadata": {},
   "outputs": [
    {
     "data": {
      "text/plain": [
       "[1, 4, 9, 16, 25]"
      ]
     },
     "execution_count": 14,
     "metadata": {},
     "output_type": "execute_result"
    }
   ],
   "source": [
    "# using Lambda with map\n",
    "list(map(lambda x:x**2,l))"
   ]
  },
  {
   "cell_type": "code",
   "execution_count": 15,
   "id": "bbf33d49",
   "metadata": {},
   "outputs": [
    {
     "data": {
      "text/plain": [
       "[11, 12, 13, 14, 15]"
      ]
     },
     "execution_count": 15,
     "metadata": {},
     "output_type": "execute_result"
    }
   ],
   "source": [
    "list(map(lambda x:x+10,l))"
   ]
  },
  {
   "cell_type": "code",
   "execution_count": 16,
   "id": "f9524b66",
   "metadata": {},
   "outputs": [
    {
     "data": {
      "text/plain": [
       "[1, 2, 3]"
      ]
     },
     "execution_count": 16,
     "metadata": {},
     "output_type": "execute_result"
    }
   ],
   "source": [
    "l=[\"1\",\"2\",\"3\"]\n",
    "list(map(lambda x:int(x),l))"
   ]
  },
  {
   "cell_type": "code",
   "execution_count": 17,
   "id": "c57d1d79",
   "metadata": {},
   "outputs": [
    {
     "data": {
      "text/plain": [
       "[101, 202, 303, 404]"
      ]
     },
     "execution_count": 17,
     "metadata": {},
     "output_type": "execute_result"
    }
   ],
   "source": [
    "l1=[100,200,300,400]\n",
    "l2=[1,2,3,4]\n",
    "list(map(lambda x,y:x+y,l1,l2))"
   ]
  },
  {
   "cell_type": "code",
   "execution_count": 18,
   "id": "664967ce",
   "metadata": {},
   "outputs": [
    {
     "data": {
      "text/plain": [
       "['P', 'W', 'S', 'K', 'I', 'L', 'L', 'S']"
      ]
     },
     "execution_count": 18,
     "metadata": {},
     "output_type": "execute_result"
    }
   ],
   "source": [
    "s='pwskills'\n",
    "list(map(lambda x:x.upper(),s))"
   ]
  },
  {
   "cell_type": "code",
   "execution_count": 19,
   "id": "672d25f7",
   "metadata": {},
   "outputs": [
    {
     "data": {
      "text/plain": [
       "['Python', 'Ajay']"
      ]
     },
     "execution_count": 19,
     "metadata": {},
     "output_type": "execute_result"
    }
   ],
   "source": [
    "words=[\"python\",\"ajay\"]\n",
    "list(map(str.capitalize,words))"
   ]
  },
  {
   "cell_type": "code",
   "execution_count": 20,
   "id": "c75cb0ec",
   "metadata": {},
   "outputs": [
    {
     "data": {
      "text/plain": [
       "[4, 3, 2, 2]"
      ]
     },
     "execution_count": 20,
     "metadata": {},
     "output_type": "execute_result"
    }
   ],
   "source": [
    "grades=[\"A\",\"B\",\"C\",\"D\"]\n",
    "list(map(lambda grade : 4 if grade==\"A\" else (3 if grade==\"B\" else 2),grades))"
   ]
  },
  {
   "cell_type": "code",
   "execution_count": null,
   "id": "d4223ad6",
   "metadata": {},
   "outputs": [
    {
     "data": {
      "text/plain": [
       "15"
      ]
     },
     "execution_count": 21,
     "metadata": {},
     "output_type": "execute_result"
    }
   ],
   "source": [
    "# reduce>> folding/reduction\n",
    "# syntax >> # reduce(func,iterable)\n",
    "# reduce will always take two arguments function\n",
    "from functools import reduce\n",
    "l=[1,2,3,4,5]\n",
    "reduce(lambda x,y:x+y,l)\n"
   ]
  },
  {
   "cell_type": "code",
   "execution_count": 23,
   "id": "2fff3cd8",
   "metadata": {},
   "outputs": [
    {
     "name": "stdout",
     "output_type": "stream",
     "text": [
      "25\n"
     ]
    }
   ],
   "source": [
    "from functools import reduce\n",
    "l = [2, 1, 3, 4, 4, 5, 6]\n",
    "result = reduce(lambda x, y: x + y, l)\n",
    "print(result)\n"
   ]
  },
  {
   "cell_type": "code",
   "execution_count": 24,
   "id": "d69f649b",
   "metadata": {},
   "outputs": [
    {
     "data": {
      "text/plain": [
       "'DataSciencecourses'"
      ]
     },
     "execution_count": 24,
     "metadata": {},
     "output_type": "execute_result"
    }
   ],
   "source": [
    "words=[\"Data\",\"Science\",\"courses\"]\n",
    "reduce(lambda x,y:x+\"\"+y,words)"
   ]
  },
  {
   "cell_type": "code",
   "execution_count": 25,
   "id": "a59f9eb3",
   "metadata": {},
   "outputs": [
    {
     "data": {
      "text/plain": [
       "10000"
      ]
     },
     "execution_count": 25,
     "metadata": {},
     "output_type": "execute_result"
    }
   ],
   "source": [
    "numbers=[1,2,5,3,100,1000,6,10000]\n",
    "reduce(lambda x,y:x if x>y else y,numbers)"
   ]
  },
  {
   "cell_type": "code",
   "execution_count": 27,
   "id": "87d4afdd",
   "metadata": {},
   "outputs": [
    {
     "data": {
      "text/plain": [
       "40320"
      ]
     },
     "execution_count": 27,
     "metadata": {},
     "output_type": "execute_result"
    }
   ],
   "source": [
    "def factorila(n):\n",
    "    return reduce(lambda x,y:x*y,range(1,n+1))\n",
    "\n",
    "factorila(8)"
   ]
  },
  {
   "cell_type": "code",
   "execution_count": 28,
   "id": "1ccd82c4",
   "metadata": {},
   "outputs": [
    {
     "data": {
      "text/plain": [
       "[2, 4, 4, 6]"
      ]
     },
     "execution_count": 28,
     "metadata": {},
     "output_type": "execute_result"
    }
   ],
   "source": [
    "# Filter function >> it is used to filter elements from an iterable based on a function that tests each element to be true or false.\n",
    "# syntax filter(function,iterable)\n",
    "\n",
    "list(filter(lambda x:x%2==0,l))"
   ]
  },
  {
   "cell_type": "code",
   "execution_count": 29,
   "id": "587b68a1",
   "metadata": {},
   "outputs": [
    {
     "data": {
      "text/plain": [
       "<filter at 0x138c416c9d0>"
      ]
     },
     "execution_count": 29,
     "metadata": {},
     "output_type": "execute_result"
    }
   ],
   "source": [
    "s=[\"Nikhil\",\"Ajay\",\"Deepak\",\"Sanket\"]\n",
    "filter(lambda x:len(x)>4,s)"
   ]
  },
  {
   "cell_type": "code",
   "execution_count": null,
   "id": "aeca373c",
   "metadata": {},
   "outputs": [
    {
     "data": {
      "text/plain": [
       "False"
      ]
     },
     "execution_count": 31,
     "metadata": {},
     "output_type": "execute_result"
    },
    {
     "ename": "",
     "evalue": "",
     "output_type": "error",
     "traceback": [
      "\u001b[1;31mThe Kernel crashed while executing code in the current cell or a previous cell. \n",
      "\u001b[1;31mPlease review the code in the cell(s) to identify a possible cause of the failure. \n",
      "\u001b[1;31mClick <a href='https://aka.ms/vscodeJupyterKernelCrash'>here</a> for more info. \n",
      "\u001b[1;31mView Jupyter <a href='command:jupyter.viewOutput'>log</a> for further details."
     ]
    }
   ],
   "source": [
    "def check_even(num):\n",
    "    if num%2==0:\n",
    "        return True\n",
    "    else:\n",
    "        return False\n",
    "    \n",
    "check_even(5)"
   ]
  },
  {
   "cell_type": "code",
   "execution_count": 1,
   "id": "641d8e27",
   "metadata": {},
   "outputs": [
    {
     "data": {
      "text/plain": [
       "7"
      ]
     },
     "execution_count": 1,
     "metadata": {},
     "output_type": "execute_result"
    }
   ],
   "source": [
    "# lambda:-A lambda function is a small arguments function in python-that means a function without a name.\n",
    "# Syntax:\n",
    "# lambda arguments:expression\n",
    "# where \n",
    "# lambda->keyword used to define the function\n",
    "# arguments->input to the function\n",
    "# expression->single expression which is evaluated and returned a value automatically.\n",
    "\n",
    "add_lambda=lambda a,b:a+b\n",
    "add_lambda(2,5)"
   ]
  },
  {
   "cell_type": "code",
   "execution_count": 3,
   "id": "a872b1bd",
   "metadata": {},
   "outputs": [
    {
     "data": {
      "text/plain": [
       "16"
      ]
     },
     "execution_count": 3,
     "metadata": {},
     "output_type": "execute_result"
    }
   ],
   "source": [
    "square=lambda x:x**2\n",
    "square(4)"
   ]
  },
  {
   "cell_type": "code",
   "execution_count": 5,
   "id": "bd574ddb",
   "metadata": {},
   "outputs": [
    {
     "data": {
      "text/plain": [
       "12"
      ]
     },
     "execution_count": 5,
     "metadata": {},
     "output_type": "execute_result"
    }
   ],
   "source": [
    "multiply=lambda x,y:x*y\n",
    "multiply(2,6)\n"
   ]
  },
  {
   "cell_type": "code",
   "execution_count": 6,
   "id": "5ad51d0a",
   "metadata": {},
   "outputs": [
    {
     "data": {
      "text/plain": [
       "2.0"
      ]
     },
     "execution_count": 6,
     "metadata": {},
     "output_type": "execute_result"
    }
   ],
   "source": [
    "divide=lambda x,y:x/y\n",
    "divide(8,4)"
   ]
  },
  {
   "cell_type": "code",
   "execution_count": 9,
   "id": "8b0703c5",
   "metadata": {},
   "outputs": [
    {
     "name": "stdout",
     "output_type": "stream",
     "text": [
      "[1, 4, 9, 16, 25, 36]\n"
     ]
    }
   ],
   "source": [
    "# map() function:-\n",
    "# The map() function in python used to apply a function to each element of an iterable (like list,touple,etc) and return a new iterator containing the result.\n",
    "# Syntax:\n",
    "# map(function,iterable)\n",
    "# where * function->The function that will be applied to each element\n",
    "# * iterable->A sequence (like,list,tuple,string etc)\n",
    "\n",
    "\n",
    "def square(num):\n",
    "    return num*num\n",
    "\n",
    "numbers=[1,2,3,4,5,6]\n",
    "result=map(square,numbers)\n",
    "print(list(result))"
   ]
  },
  {
   "cell_type": "code",
   "execution_count": 12,
   "id": "6a5750a7",
   "metadata": {},
   "outputs": [
    {
     "name": "stdout",
     "output_type": "stream",
     "text": [
      "[2, 4, 6, 8, 10]\n"
     ]
    }
   ],
   "source": [
    "numbers=[1,2,3,4,5]\n",
    "result=map(lambda x:x*2,numbers)\n",
    "print(list(result))"
   ]
  },
  {
   "cell_type": "code",
   "execution_count": 14,
   "id": "9e9600da",
   "metadata": {},
   "outputs": [
    {
     "name": "stdout",
     "output_type": "stream",
     "text": [
      "[-4, -4, -4, -4]\n"
     ]
    }
   ],
   "source": [
    "a=[1,2,3,4]\n",
    "b=[5,6,7,8]\n",
    "result=map(lambda x,y:x-y,a,b)\n",
    "print(list(result))"
   ]
  },
  {
   "cell_type": "code",
   "execution_count": null,
   "id": "b3195cf3",
   "metadata": {},
   "outputs": [],
   "source": [
    "c=[9,8,7,6]\n",
    "d=[1,2,3,4]\n",
    "result=map(lambda x,y:x-y,a,b)\n",
    "print(list(result))"
   ]
  },
  {
   "cell_type": "code",
   "execution_count": 18,
   "id": "ac600e64",
   "metadata": {},
   "outputs": [
    {
     "name": "stdout",
     "output_type": "stream",
     "text": [
      "['HelloNikhil', 'HelloRiya', 'HelloAman']\n"
     ]
    }
   ],
   "source": [
    "def greet(name):\n",
    "    return \"Hello\" + name\n",
    "names=[\"Nikhil\",\"Riya\",\"Aman\"]\n",
    "result=map(greet,names)\n",
    "print(list(result))"
   ]
  },
  {
   "cell_type": "code",
   "execution_count": 19,
   "id": "4602e67f",
   "metadata": {},
   "outputs": [
    {
     "name": "stdout",
     "output_type": "stream",
     "text": [
      "['odd', 'Even', 'odd', 'Even', 'odd']\n"
     ]
    }
   ],
   "source": [
    "numbers=[1,2,3,4,5]\n",
    "result=map(lambda x:\"Even\" if x%2==0 else \"odd\",numbers)\n",
    "print(list(result))"
   ]
  },
  {
   "cell_type": "code",
   "execution_count": 20,
   "id": "b39c6857",
   "metadata": {},
   "outputs": [
    {
     "name": "stdout",
     "output_type": "stream",
     "text": [
      "[1.0, 2.0, 3.0, 4.0]\n"
     ]
    }
   ],
   "source": [
    "data=(10,20,30,40)\n",
    "new_data=map(lambda x:x/10,data)\n",
    "print(list(new_data))"
   ]
  },
  {
   "cell_type": "code",
   "execution_count": 21,
   "id": "432ddfc5",
   "metadata": {},
   "outputs": [
    {
     "name": "stdout",
     "output_type": "stream",
     "text": [
      "31\n"
     ]
    }
   ],
   "source": [
    "# Reduce \n",
    "# The reduce() function is used to reduce (or combine) all elements of sequence (like a list or tuple) into a single value.\n",
    "# Python module\n",
    "# from functools import reduce\n",
    "# \n",
    "# Syntax:\n",
    "# reduce(function,iterable[,initializer])\n",
    "\n",
    "from functools import reduce\n",
    "numbers=[1,2,3,4,5,6]\n",
    "result=reduce(lambda x,y:x+y,numbers,10) \n",
    "print(result)"
   ]
  },
  {
   "cell_type": "code",
   "execution_count": 23,
   "id": "1933ba07",
   "metadata": {},
   "outputs": [
    {
     "name": "stdout",
     "output_type": "stream",
     "text": [
      "20\n"
     ]
    }
   ],
   "source": [
    "from functools import reduce\n",
    "numbers = [5, 10, 15, 7, 20]\n",
    "numbers=reduce(lambda x,y:x if x>y else y,numbers)\n",
    "print(numbers)"
   ]
  },
  {
   "cell_type": "code",
   "execution_count": 24,
   "id": "db2f6436",
   "metadata": {},
   "outputs": [
    {
     "name": "stdout",
     "output_type": "stream",
     "text": [
      "[2, 4, 6]\n"
     ]
    }
   ],
   "source": [
    "# Filter():-\n",
    "# The filter() function in python is used to filter (select) elements from a sequence (like a list,tuple etc).\n",
    "# Based on condition (True/False) given by a function.\n",
    "# Syntac:-\n",
    "# filter(function,iterable)\n",
    "# * function:A function that returns either True or False for each element.\n",
    "# * Iterable:Sequence (list,tuple,string etc) whose element will be filtered.\n",
    "\n",
    "\n",
    "numbers=[1,2,3,4,5,6,7]\n",
    "result=filter(lambda x:x%2==0,numbers)\n",
    "print(list(result))"
   ]
  },
  {
   "cell_type": "code",
   "execution_count": 25,
   "id": "de6d2418",
   "metadata": {},
   "outputs": [
    {
     "name": "stdout",
     "output_type": "stream",
     "text": [
      "[15, 20, 25]\n"
     ]
    }
   ],
   "source": [
    "numbers=[5,10,15,20,25]\n",
    "result=filter(lambda x:x>10,numbers)\n",
    "print(list(result))"
   ]
  },
  {
   "cell_type": "code",
   "execution_count": 26,
   "id": "74db43e6",
   "metadata": {},
   "outputs": [
    {
     "name": "stdout",
     "output_type": "stream",
     "text": [
      "['a', 'e']\n"
     ]
    }
   ],
   "source": [
    "def is_vowel(ch):\n",
    "    vowels=['a','e','i','o','u']\n",
    "    return ch.lower() in vowels\n",
    "letters=['a','b','c','d','e']\n",
    "result=filter(is_vowel,letters)\n",
    "print(list(result))"
   ]
  }
 ],
 "metadata": {
  "kernelspec": {
   "display_name": "Python 3",
   "language": "python",
   "name": "python3"
  },
  "language_info": {
   "codemirror_mode": {
    "name": "ipython",
    "version": 3
   },
   "file_extension": ".py",
   "mimetype": "text/x-python",
   "name": "python",
   "nbconvert_exporter": "python",
   "pygments_lexer": "ipython3",
   "version": "3.13.1"
  }
 },
 "nbformat": 4,
 "nbformat_minor": 5
}
