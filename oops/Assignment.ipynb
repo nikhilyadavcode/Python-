{
 "cells": [
  {
   "cell_type": "code",
   "execution_count": 9,
   "id": "69004991",
   "metadata": {},
   "outputs": [
    {
     "name": "stdout",
     "output_type": "stream",
     "text": [
      "Area of a circle is 78.5\n",
      "Area of rectangle 42\n"
     ]
    }
   ],
   "source": [
    "\n",
    "#2. Write a program to create an abstract class Shape with a method area(). Derive classes Circle and Rectangle\n",
    "# from it and implement the area() method in both.\n",
    "from abc import ABC,abstractmethod\n",
    "import math\n",
    "\n",
    "class Shape(ABC):\n",
    "    @abstractmethod\n",
    "    def area(self):\n",
    "        pass\n",
    "\n",
    "# Derive class \n",
    "class Circle(Shape):\n",
    "    def __init__(self,radius):\n",
    "        self.radius=radius\n",
    "    def area(self):\n",
    "        return 3.14*self.radius*self.radius\n",
    "\n",
    "# Derive class\n",
    "class Rectangle(Shape):\n",
    "    def __init__(self,length,breadth):\n",
    "        self.length=length\n",
    "        self.breadth=breadth\n",
    "    def area(self):\n",
    "       return self.length*self.breadth\n",
    "\n",
    "obj1=Circle(5)\n",
    "obj2=Rectangle(6,7)\n",
    "\n",
    "print(\"Area of a circle is\",obj1.area())\n",
    "print(\"Area of rectangle\",obj2.area())"
   ]
  },
  {
   "cell_type": "code",
   "execution_count": 10,
   "id": "f91c5ea5",
   "metadata": {},
   "outputs": [
    {
     "name": "stdout",
     "output_type": "stream",
     "text": [
      "Sparrow can fly high in the sky \n",
      "Penguin can swim in the river\n"
     ]
    }
   ],
   "source": [
    "# Demonstrate polymorphism by creating a base class Bird with a method fly(). Create two derived classes\n",
    "# Sparrow and Penguin that override the fly() method.\n",
    "\n",
    "# Base class\n",
    "class Bird:\n",
    "    def fly(self):\n",
    "       print(\"Bird Can fly\")\n",
    "\n",
    "# Derived Sparrow class\n",
    "class Sparrow(Bird):\n",
    "    def fly(self):\n",
    "        print(\"Sparrow can fly high in the sky \")\n",
    "\n",
    "# Derived penguin class\n",
    "class Penguin(Bird):\n",
    "    def fly(self):\n",
    "        print(\"Penguin can swim in the river\")\n",
    "\n",
    "birds=[Sparrow(),Penguin()]\n",
    "\n",
    "for b in birds:\n",
    "    b.fly()\n",
    "\n",
    "\n",
    "\n"
   ]
  },
  {
   "cell_type": "code",
   "execution_count": 14,
   "id": "7075ca6d",
   "metadata": {},
   "outputs": [
    {
     "name": "stdout",
     "output_type": "stream",
     "text": [
      "500 Deposite successfully\n",
      "300 withdrawl successfully\n",
      "Current balance 1200\n"
     ]
    }
   ],
   "source": [
    "class BankAccount:\n",
    "    def __init__(self,initial_balance=0):\n",
    "        self.__balance=initial_balance # private attribute\n",
    "\n",
    "    def deposite(self,amount):\n",
    "        if amount>0:\n",
    "            self.__balance+=amount\n",
    "            print(amount,\"Deposite successfully\")\n",
    "        else:\n",
    "            print(\"Invalid deposite amount\")\n",
    "\n",
    "    def withdrawl(self,amount):\n",
    "        if 0<amount<=self.__balance:\n",
    "            self.__balance-=amount\n",
    "            print(amount,\"withdrawl successfully\")\n",
    "        else:\n",
    "            print(\"Insufficient balance or invalid amount\")\n",
    "\n",
    "\n",
    "    def check_balance(self):\n",
    "        print(\"Current balance\",self.__balance)\n",
    "account = BankAccount(1000)\n",
    "\n",
    "# Operations\n",
    "account.deposite(500)\n",
    "account.withdrawl(300)\n",
    "account.check_balance()"
   ]
  },
  {
   "cell_type": "code",
   "execution_count": 15,
   "id": "759b8855",
   "metadata": {},
   "outputs": [
    {
     "name": "stdout",
     "output_type": "stream",
     "text": [
      "15\n",
      "5\n"
     ]
    }
   ],
   "source": [
    "class MathOperation:\n",
    "  @staticmethod\n",
    "  def add_number(a,b):\n",
    "    return a+b\n",
    "\n",
    "  def subtract_number(a,b):\n",
    "    return a-b\n",
    "print(MathOperation.add_number(10,5))\n",
    "print(MathOperation.subtract_number(10,5))"
   ]
  }
 ],
 "metadata": {
  "kernelspec": {
   "display_name": "Python 3",
   "language": "python",
   "name": "python3"
  },
  "language_info": {
   "codemirror_mode": {
    "name": "ipython",
    "version": 3
   },
   "file_extension": ".py",
   "mimetype": "text/x-python",
   "name": "python",
   "nbconvert_exporter": "python",
   "pygments_lexer": "ipython3",
   "version": "3.13.1"
  }
 },
 "nbformat": 4,
 "nbformat_minor": 5
}
