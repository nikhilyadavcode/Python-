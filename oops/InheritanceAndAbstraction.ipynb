{
 "cells": [
  {
   "cell_type": "code",
   "execution_count": null,
   "id": "edba9223",
   "metadata": {},
   "outputs": [],
   "source": [
    "# inheritance>>refers to process of chile reciving the properties of parent class\n",
    "# Syntax of Inheritance\n",
    "# class BaseClass:\n",
    "# body of base class\n",
    "# class DerivedClass(BaseClass):\n",
    "# body of derived class \n",
    "# Types of inheritance\n",
    "# 1.Single Inheritance"
   ]
  },
  {
   "cell_type": "code",
   "execution_count": 3,
   "id": "e94d9bff",
   "metadata": {},
   "outputs": [
    {
     "name": "stdout",
     "output_type": "stream",
     "text": [
      "Son has property from job\n",
      "This is the father property\n"
     ]
    }
   ],
   "source": [
    "# Single inheritance:When a derived class has only one parent class.\n",
    "# Example\n",
    "class Father:\n",
    "    def father_properties(self):\n",
    "        print(\"This is the father property\")\n",
    "class Son(Father):\n",
    "    def job(self):\n",
    "        print(\"Son has property from job\")\n",
    "\n",
    "child_obj=Son() # object/instance of Son class\n",
    "child_obj.job()\n",
    "child_obj.father_properties()"
   ]
  },
  {
   "cell_type": "code",
   "execution_count": 4,
   "id": "79be8208",
   "metadata": {},
   "outputs": [
    {
     "name": "stdout",
     "output_type": "stream",
     "text": [
      "This is the father property\n"
     ]
    }
   ],
   "source": [
    "father_obj=Father()\n",
    "father_obj.father_properties()"
   ]
  },
  {
   "cell_type": "code",
   "execution_count": null,
   "id": "06e0a0a2",
   "metadata": {},
   "outputs": [],
   "source": [
    "# Parent class will not have access the property(method/attribute) of child class but child class will have access but method/overriding. "
   ]
  },
  {
   "cell_type": "code",
   "execution_count": null,
   "id": "4aa1feb5",
   "metadata": {},
   "outputs": [
    {
     "name": "stdout",
     "output_type": "stream",
     "text": [
      "Inside the child class\n",
      "Inside Parent class\n"
     ]
    }
   ],
   "source": [
    "# Method Overriding>>re-writing/re-defining methods of parent class is derived/child class.\n",
    "class Fruit:\n",
    "    def fruit_info(self):\n",
    "        print(\"Inside Parent class\")\n",
    "class Apple(Fruit):\n",
    "    def fruit_info(self):\n",
    "        print(\"Inside the child class (fruit_info)\")\n",
    "    def apple_info(self):\n",
    "        print(\"Inside the child class\")\n",
    "\n",
    "obj=Apple()\n",
    "obj.apple_info()\n",
    "obj.fruit_info()\n",
    "\n",
    "# method overriding >> child class is very powerfull.\n",
    "# method overriding happen between two class."
   ]
  },
  {
   "cell_type": "code",
   "execution_count": 6,
   "id": "5ea23125",
   "metadata": {},
   "outputs": [
    {
     "name": "stdout",
     "output_type": "stream",
     "text": [
      "Inside Parent class\n"
     ]
    }
   ],
   "source": [
    "par=Fruit()\n",
    "par.fruit_info()"
   ]
  },
  {
   "cell_type": "code",
   "execution_count": 8,
   "id": "3ba41618",
   "metadata": {},
   "outputs": [
    {
     "name": "stdout",
     "output_type": "stream",
     "text": [
      "I am your grand father,I am having my and grandfather's properties\n",
      "I am your grandfather,this is my property\n",
      "I am the king .I am having all the properties\n"
     ]
    }
   ],
   "source": [
    "# multi-level inheritance\n",
    "class GrandFather:\n",
    "    def prop_grand_father(self):\n",
    "        print(\"I am your grandfather,this is my property\")\n",
    "class Father(GrandFather):\n",
    "    def prop_father(self):\n",
    "        print(\"I am your grand father,I am having my and grandfather's properties\")\n",
    "class Son(Father):\n",
    "    def prop_son(self):\n",
    "        print(\"I am the king .I am having all the properties\")\n",
    "\n",
    "son=Son()\n",
    "son.prop_father()\n",
    "son.prop_grand_father()\n",
    "son.prop_son()"
   ]
  },
  {
   "cell_type": "code",
   "execution_count": null,
   "id": "f7a1527c",
   "metadata": {},
   "outputs": [
    {
     "name": "stdout",
     "output_type": "stream",
     "text": [
      "Inside the car class\n",
      "Inside sport car\n",
      "Inside the vehicles class\n"
     ]
    }
   ],
   "source": [
    "# use case \n",
    "class Vehicles:\n",
    "    def vehicles_info(self):\n",
    "        print(\"Inside the vehicles class\")\n",
    "class Car(Vehicles):\n",
    "    def car_info(self):\n",
    "        print(\"Inside the car class\")\n",
    "class SportsCar(Car):\n",
    "    def sport_car_info(self):\n",
    "        print(\"Inside sport car\")\n",
    "\n",
    "s1=SportsCar()\n",
    "s1.car_info()\n",
    "s1.sport_car_info()\n",
    "s1.vehicles_info()"
   ]
  },
  {
   "cell_type": "code",
   "execution_count": null,
   "id": "b7482ad2",
   "metadata": {},
   "outputs": [
    {
     "name": "stdout",
     "output_type": "stream",
     "text": [
      "Inside the sports Car\n"
     ]
    }
   ],
   "source": [
    "# Method Overriding\n",
    "class Vehicle:\n",
    "    def vehicle_info(self):\n",
    "        print(\"Inside vehicles class\")\n",
    "class Car(Vehicle):\n",
    "    def car_info(self):\n",
    "        print(\"Inside the car class\")\n",
    "class SportsCar(Car):\n",
    "    def vehicle_info(self):\n",
    "        print(\"Inside the sports Car\")\n",
    "\n",
    "s2=SportsCar()\n",
    "s2.vehicle_info() # method override>>child class is most powerful\n"
   ]
  },
  {
   "cell_type": "code",
   "execution_count": 14,
   "id": "5f5557b3",
   "metadata": {},
   "outputs": [
    {
     "name": "stdout",
     "output_type": "stream",
     "text": [
      "Method of child class\n",
      "Method 1 of parent class 1\n",
      "Method2 of parent class 2\n"
     ]
    }
   ],
   "source": [
    "# Multiple inheritance >> one child class may inherit the property of multiple parent class.\n",
    "class ParentClass1:\n",
    "    def method1(self):\n",
    "        print(\"Method 1 of parent class 1\")\n",
    "class ParentClass2:\n",
    "    def method2(self):\n",
    "        print(\"Method2 of parent class 2\")\n",
    "\n",
    "class ChildClass(ParentClass1,ParentClass2):\n",
    "    def method(self):\n",
    "        print(\"Method of child class\")\n",
    "\n",
    "c1=ChildClass()\n",
    "c1.method()\n",
    "c1.method1()\n",
    "c1.method2()"
   ]
  },
  {
   "cell_type": "code",
   "execution_count": null,
   "id": "5d86a4b8",
   "metadata": {},
   "outputs": [
    {
     "name": "stdout",
     "output_type": "stream",
     "text": [
      "Method 1 of parent class 1\n"
     ]
    }
   ],
   "source": [
    "# Diamand Problem>> it occurs when a class inherits from 2 or more than 2 class>> will lead to ambiguity in execution of method.\n",
    "# To remove diamond problem>> python uses method resolution order(MRO) algorithm called c3 Linearization.\n",
    "# Meaning that the class that is inherited first in the derived class,that method will be called>> in this case method 1.\n",
    "\n",
    "class ParentClass1:\n",
    "    def method_par(self):\n",
    "        print(\"Method 1 of parent class 1\")\n",
    "class ParentClass2:\n",
    "    def method_par(self):\n",
    "        print(\"Method2 of parent class 2\")\n",
    "class ChildClass(ParentClass1,ParentClass2):\n",
    "    def method(self):\n",
    "        print(\"Method of child class\")\n",
    "\n",
    "c2=ChildClass()\n",
    "c2.method_par()\n"
   ]
  },
  {
   "cell_type": "code",
   "execution_count": 18,
   "id": "612d10d5",
   "metadata": {},
   "outputs": [
    {
     "name": "stdout",
     "output_type": "stream",
     "text": [
      "Method of class C\n"
     ]
    }
   ],
   "source": [
    "# Diamond Problem\n",
    "class A:\n",
    "    def method(self):\n",
    "        print(\"Method of class A\")\n",
    "class B(A):\n",
    "    def method(self):\n",
    "        print(\"Method of class B\")\n",
    "class C(A):\n",
    "    def method(self):\n",
    "        print(\"Method of class C\")\n",
    "class D(C,B):\n",
    "    pass\n",
    "\n",
    "d=D()   \n",
    "d.method()  "
   ]
  },
  {
   "cell_type": "code",
   "execution_count": 19,
   "id": "0faea7ca",
   "metadata": {},
   "outputs": [
    {
     "name": "stdout",
     "output_type": "stream",
     "text": [
      "This is vehicle\n"
     ]
    }
   ],
   "source": [
    "# Hierarchical inheritance >> one parent class>>multiple(more than two childclass).\n",
    "class Vehicle:\n",
    "    def info(self):\n",
    "        print(\"This is vehicle\")\n",
    "class Car(Vehicle):\n",
    "    def car_info(self,name):\n",
    "        print(\"This is car info\",name)\n",
    "class Truck(Vehicle):\n",
    "    def truck_info(self,name):\n",
    "        print(\"truck info\",name)\n",
    "\n",
    "c1=Car()\n",
    "c1.info()"
   ]
  },
  {
   "cell_type": "code",
   "execution_count": 21,
   "id": "f4af4599",
   "metadata": {},
   "outputs": [
    {
     "name": "stdout",
     "output_type": "stream",
     "text": [
      "This is car info BMW\n"
     ]
    }
   ],
   "source": [
    "c1.car_info(\"BMW\")"
   ]
  },
  {
   "cell_type": "code",
   "execution_count": 22,
   "id": "fc5c6613",
   "metadata": {},
   "outputs": [
    {
     "name": "stdout",
     "output_type": "stream",
     "text": [
      "This is vehicle\n"
     ]
    }
   ],
   "source": [
    "obj2=Truck()\n",
    "obj2.info()"
   ]
  },
  {
   "cell_type": "code",
   "execution_count": 23,
   "id": "0148f277",
   "metadata": {},
   "outputs": [
    {
     "name": "stdout",
     "output_type": "stream",
     "text": [
      "truck info truck1\n"
     ]
    }
   ],
   "source": [
    "obj2.truck_info(\"truck1\")"
   ]
  },
  {
   "cell_type": "code",
   "execution_count": 25,
   "id": "3a0bdc08",
   "metadata": {},
   "outputs": [
    {
     "name": "stdout",
     "output_type": "stream",
     "text": [
      "Inside the car class\n",
      "Inside the sports Car\n",
      "Inside the car class\n"
     ]
    }
   ],
   "source": [
    "# Hybrid inheritance>>mulyiple types or combination of different inheritance.\n",
    "\n",
    "class Vehicle:\n",
    "    def vehicle_info(self):\n",
    "        print(\"Inside the vehicle class\")\n",
    "\n",
    "class Car(Vehicle):\n",
    "    def car_info(self):\n",
    "        print(\"Inside the car class\")\n",
    "\n",
    "class Truck(Vehicle):\n",
    "    def truck_info(self,name):\n",
    "        print(\"Inside truck info\",name)\n",
    "class SportCar(Car,Vehicle):\n",
    "    def sports_info(self):\n",
    "        print(\"Inside sports car class\")\n",
    "\n",
    "obj1=SportsCar()\n",
    "obj1.car_info()\n",
    "obj1.vehicle_info()\n",
    "obj1.car_info()"
   ]
  },
  {
   "cell_type": "code",
   "execution_count": null,
   "id": "1c1aae8a",
   "metadata": {},
   "outputs": [],
   "source": [
    "# Abstraction>>concept of hiding complex implementation \n",
    "# hiding unneeded details and exposing the required\n",
    "# abstraction class can not be instantiated(can not make object)\n",
    "# abstract class should always be subclassed\n",
    "# abstract class may contain methods that are just declared and not implemented in abstract class itself,subclass are responsible for implementing these abstract method class.\n"
   ]
  },
  {
   "cell_type": "code",
   "execution_count": null,
   "id": "1cc5e766",
   "metadata": {},
   "outputs": [],
   "source": [
    "# abstraction can be achieved using abstract class>> import abc\n",
    "import abc # collection of multiple function is a module\n"
   ]
  },
  {
   "cell_type": "code",
   "execution_count": null,
   "id": "0a162280",
   "metadata": {},
   "outputs": [],
   "source": [
    "# use case\n",
    "# in any class pwskills>>data science/frontend/backend,the following three methods will be common\n",
    "class pwSkills:\n",
    "\n",
    "    @abc.abstractmethod\n",
    "    def student_details(self):\n",
    "        pass\n",
    "    @abc.abstractmethod\n",
    "    def student_assignment(self):\n",
    "        pass\n",
    "    @abc.abstractmethod\n",
    "    def student_marks(self):\n",
    "        pass"
   ]
  },
  {
   "cell_type": "code",
   "execution_count": null,
   "id": "05449009",
   "metadata": {},
   "outputs": [],
   "source": [
    "class DataScience(pwSkills):\n",
    "    def student_details(self):\n",
    "        return \"Data science course details\"\n",
    "    def student_marks(self):\n",
    "        return \"give ds student marks\"\n",
    "\n"
   ]
  },
  {
   "cell_type": "code",
   "execution_count": 31,
   "id": "7ab5e87b",
   "metadata": {},
   "outputs": [
    {
     "name": "stdout",
     "output_type": "stream",
     "text": [
      "Data science course details\n",
      "Give Data Science student marks\n",
      "This will give web dev student assignment\n",
      "WebDev student marks\n"
     ]
    }
   ],
   "source": [
    "class pwSkills:\n",
    "    def student_details(self):\n",
    "        return \"General student details\"\n",
    "\n",
    "    def student_marks(self):\n",
    "        return \"General student marks\"\n",
    "\n",
    "\n",
    "class DataScience(pwSkills):\n",
    "    def student_details(self):\n",
    "        return \"Data science course details\"\n",
    "\n",
    "    def student_marks(self):\n",
    "        return \"Give Data Science student marks\"\n",
    "\n",
    "\n",
    "class webDev(pwSkills):\n",
    "    def student_assignment(self):\n",
    "        return \"This will give web dev student assignment\"\n",
    "\n",
    "    def student_marks(self):\n",
    "        return \"WebDev student marks\"\n",
    "    \n",
    "\n",
    "ds = DataScience()\n",
    "print(ds.student_details())   # Output: Data science course details\n",
    "print(ds.student_marks())     # Output: Give Data Science student marks\n",
    "\n",
    "web = webDev()\n",
    "print(web.student_assignment())  # Output: This will give web dev student assignment\n",
    "print(web.student_marks())       # Output: WebDev student marks\n",
    "\n"
   ]
  },
  {
   "cell_type": "code",
   "execution_count": 36,
   "id": "4cfe3dd4",
   "metadata": {},
   "outputs": [
    {
     "name": "stdout",
     "output_type": "stream",
     "text": [
      "Area of rectangle is len * breadth\n"
     ]
    }
   ],
   "source": [
    "from abc import ABC, abstractmethod  # ✅ Import added\n",
    "\n",
    "class Shape(ABC):  # ✅ Inherit from ABC\n",
    "    @abstractmethod\n",
    "    def calculate_area(self):\n",
    "        pass\n",
    "\n",
    "class Rectangle(Shape):\n",
    "    def calculate_area(self):\n",
    "        return \"Area of rectangle is len * breadth\"\n",
    "\n",
    "class Circle(Shape):\n",
    "    def calculate_area(self):\n",
    "        return \"Area of circle is pi * r**2\"\n",
    "\n",
    "rect = Rectangle()\n",
    "print(rect.calculate_area())\n"
   ]
  }
 ],
 "metadata": {
  "kernelspec": {
   "display_name": "Python 3",
   "language": "python",
   "name": "python3"
  },
  "language_info": {
   "codemirror_mode": {
    "name": "ipython",
    "version": 3
   },
   "file_extension": ".py",
   "mimetype": "text/x-python",
   "name": "python",
   "nbconvert_exporter": "python",
   "pygments_lexer": "ipython3",
   "version": "3.13.1"
  }
 },
 "nbformat": 4,
 "nbformat_minor": 5
}
