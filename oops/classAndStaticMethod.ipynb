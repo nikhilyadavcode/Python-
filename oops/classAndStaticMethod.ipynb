{
 "cells": [
  {
   "cell_type": "code",
   "execution_count": null,
   "id": "a7d6c8ea",
   "metadata": {},
   "outputs": [],
   "source": [
    "# class method>>bound to the class (and not to a particular instance of the class),access/modify methods and attributes associated to the class across all the instances.\n",
    "# @classmethod decorator\n",
    "#  instead of self,cls as first parameter\n",
    "# alternative of init method to pass the data."
   ]
  },
  {
   "cell_type": "code",
   "execution_count": 1,
   "id": "c04c10f6",
   "metadata": {},
   "outputs": [
    {
     "data": {
      "text/plain": [
       "'Nikhil'"
      ]
     },
     "execution_count": 1,
     "metadata": {},
     "output_type": "execute_result"
    }
   ],
   "source": [
    "class Student:\n",
    "    # constructor >> constructing class with initialization of variable/data.\n",
    "    def __init__(self,name):\n",
    "        self.name=name\n",
    "\n",
    "obj=Student(\"Nikhil\")\n",
    "obj.name"
   ]
  },
  {
   "cell_type": "code",
   "execution_count": null,
   "id": "f73ea376",
   "metadata": {},
   "outputs": [
    {
     "data": {
      "text/plain": [
       "'Nikhil'"
      ]
     },
     "execution_count": 2,
     "metadata": {},
     "output_type": "execute_result"
    }
   ],
   "source": [
    "class Student:\n",
    "    def __init__(self,name):\n",
    "        self.name=name # self means this variable/method is referring to current\n",
    "    @classmethod #bound/binds to the class\n",
    "    def student_details(cls,name): #instead of self as first param,you are using cls.>>meaning this method is associated/referring to the class itself.\n",
    "        return cls(name)\n",
    "    \n",
    "obj1=Student.student_details(\"Nikhil\") # since student_details binds to the class you can directly call it without making any object.\n",
    "obj1.name"
   ]
  },
  {
   "cell_type": "code",
   "execution_count": null,
   "id": "3afdfd2a",
   "metadata": {},
   "outputs": [],
   "source": [
    "# What is the meaning that it is referring the class?\n",
    "# earlier to access any method/attribute>>first make instance/object of class.\n",
    "# then obj.attribute.\n",
    "# but if it is class method you can directly access it.\n",
    "\n"
   ]
  },
  {
   "cell_type": "code",
   "execution_count": null,
   "id": "a0b46919",
   "metadata": {},
   "outputs": [
    {
     "data": {
      "text/plain": [
       "'Nikhil'"
      ]
     },
     "execution_count": 10,
     "metadata": {},
     "output_type": "execute_result"
    }
   ],
   "source": [
    "\n",
    "# seeing class method as alternative of init method.>> actually class method is overloading.\n",
    "# how class method is overloading the init method.\n",
    "# modifying the class/instance method\n",
    "class Student:\n",
    "    def __init__(self,name): # init method is a instance method\n",
    "        self.name=name\n",
    "    @classmethod\n",
    "    def student_details(cls,name1):\n",
    "        return cls(name1)\n",
    "stud=Student.student_details(\"Nikhil\")\n",
    "stud.name\n",
    "# you will get Ajay inspite the variable name1\n",
    "# because it is overloading the init method >> alternative of init method"
   ]
  },
  {
   "cell_type": "code",
   "execution_count": 15,
   "id": "2c9e2298",
   "metadata": {},
   "outputs": [
    {
     "data": {
      "text/plain": [
       "'Nikhil'"
      ]
     },
     "execution_count": 15,
     "metadata": {},
     "output_type": "execute_result"
    }
   ],
   "source": [
    "# class method can modify class state application to all the instance of the class.\n",
    "\n",
    "class Student:\n",
    "    total_student=0 # class variable\n",
    "    def __init__(self,name):#instance method\n",
    "        self.name=name # instance variable\n",
    "        Student.total_student=Student.total_student+1 # Total_student is the class variable associated with all the instances\n",
    "    @classmethod\n",
    "    def get_total_students(cls):\n",
    "        return cls.total_student\n",
    "    \n",
    "stud1=Student(\"Nikhil\")\n",
    "stud2=Student(\"Ajay\")\n",
    "stud1.name\n"
   ]
  },
  {
   "cell_type": "code",
   "execution_count": 16,
   "id": "2f2cbd16",
   "metadata": {},
   "outputs": [
    {
     "data": {
      "text/plain": [
       "'Ajay'"
      ]
     },
     "execution_count": 16,
     "metadata": {},
     "output_type": "execute_result"
    }
   ],
   "source": [
    "stud2.name"
   ]
  },
  {
   "cell_type": "code",
   "execution_count": 18,
   "id": "a38b17b9",
   "metadata": {},
   "outputs": [
    {
     "data": {
      "text/plain": [
       "2"
      ]
     },
     "execution_count": 18,
     "metadata": {},
     "output_type": "execute_result"
    }
   ],
   "source": [
    "Student.total_student"
   ]
  },
  {
   "cell_type": "code",
   "execution_count": null,
   "id": "dba03aac",
   "metadata": {},
   "outputs": [
    {
     "data": {
      "text/plain": [
       "2"
      ]
     },
     "execution_count": 19,
     "metadata": {},
     "output_type": "execute_result"
    }
   ],
   "source": [
    "Student.get_total_students() # class method can modify class state applicable to all the properties.\n",
    "# thats why you see increase in the count.\n"
   ]
  },
  {
   "cell_type": "code",
   "execution_count": null,
   "id": "82b9e91c",
   "metadata": {},
   "outputs": [],
   "source": [
    "# To make external function as class method.\n",
    "class Student:\n",
    "    total_student=0 # class variable\n",
    "    def __init__(self,name):#instance method\n",
    "        self.name=name # instance variable\n",
    "        Student.total_student=Student.total_student+1 # Total_student is the class variable associated with all the instances\n",
    "    @classmethod\n",
    "    def get_total_students(cls):\n",
    "        return cls.total_student"
   ]
  },
  {
   "cell_type": "code",
   "execution_count": 20,
   "id": "ed438f17",
   "metadata": {},
   "outputs": [],
   "source": [
    "def course_details(cls,course_name):\n",
    "    print(\"The details of the course are:\",course_name)"
   ]
  },
  {
   "cell_type": "code",
   "execution_count": null,
   "id": "c4341597",
   "metadata": {},
   "outputs": [],
   "source": [
    "Student.course_details=classmethod(course_details) # adding external function as class method"
   ]
  },
  {
   "cell_type": "code",
   "execution_count": 22,
   "id": "5fb37a7f",
   "metadata": {},
   "outputs": [
    {
     "name": "stdout",
     "output_type": "stream",
     "text": [
      "The details of the course are: Data Science\n"
     ]
    }
   ],
   "source": [
    "Student.course_details(\"Data Science\")"
   ]
  },
  {
   "cell_type": "code",
   "execution_count": 23,
   "id": "a42846c9",
   "metadata": {},
   "outputs": [],
   "source": [
    "# delete any class method\n",
    "del Student.course_details"
   ]
  },
  {
   "cell_type": "code",
   "execution_count": null,
   "id": "8b556e88",
   "metadata": {},
   "outputs": [],
   "source": [
    "Student.course_details(\"Data Science\") # this will throw an error as you have deleted this method."
   ]
  },
  {
   "cell_type": "code",
   "execution_count": 25,
   "id": "aeb74eb4",
   "metadata": {},
   "outputs": [
    {
     "data": {
      "text/plain": [
       "2"
      ]
     },
     "execution_count": 25,
     "metadata": {},
     "output_type": "execute_result"
    }
   ],
   "source": [
    "Student.get_total_students()"
   ]
  },
  {
   "cell_type": "code",
   "execution_count": null,
   "id": "5a8f4876",
   "metadata": {},
   "outputs": [],
   "source": [
    "# another way to delete\n",
    "delattr(Student,\"get_total_students\")\n",
    "Student.get_total_students() # Error"
   ]
  },
  {
   "cell_type": "code",
   "execution_count": null,
   "id": "66cf3c50",
   "metadata": {},
   "outputs": [],
   "source": [
    "# static method\n",
    "# doesnot modify class or instance state\n",
    "# doesn't access instance or class state.\n",
    "# doesen't depend on class/instance.\n",
    "# it behaves like a plain function that belongs to class.\n",
    "# it does't take self or cls."
   ]
  },
  {
   "cell_type": "code",
   "execution_count": 29,
   "id": "ff6461a9",
   "metadata": {},
   "outputs": [
    {
     "data": {
      "text/plain": [
       "12"
      ]
     },
     "execution_count": 29,
     "metadata": {},
     "output_type": "execute_result"
    }
   ],
   "source": [
    "class Calculator:\n",
    "\n",
    "    @staticmethod\n",
    "    def add(x,y):\n",
    "        return x+y\n",
    "    @staticmethod\n",
    "    def sub(x,y):\n",
    "        return x-y\n",
    "    \n",
    "Calculator.add(5,7)"
   ]
  },
  {
   "cell_type": "code",
   "execution_count": 30,
   "id": "93a672b2",
   "metadata": {},
   "outputs": [
    {
     "data": {
      "text/plain": [
       "2"
      ]
     },
     "execution_count": 30,
     "metadata": {},
     "output_type": "execute_result"
    }
   ],
   "source": [
    "Calculator.sub(10,8)"
   ]
  },
  {
   "cell_type": "code",
   "execution_count": 3,
   "id": "6e6c5a99",
   "metadata": {},
   "outputs": [
    {
     "name": "stdout",
     "output_type": "stream",
     "text": [
      "GBU\n"
     ]
    }
   ],
   "source": [
    "# class Method:\n",
    "# A class method works with the class itself,not with objects.\n",
    "# it recives class as the first arguments->by convention called cls.\n",
    "# it can modify class variables,not instance variable.\n",
    "# it is created using @classmethod decorator.\n",
    "\n",
    "# Example\n",
    "\n",
    "class Student:\n",
    "    school_name=\"DPS\"\n",
    "\n",
    "    def __init__(self,name,roll):\n",
    "        self.name=name\n",
    "        self.roll=roll\n",
    "\n",
    "    @classmethod\n",
    "    def change_school(cls,new_name):\n",
    "        cls.school_name=new_name\n",
    "\n",
    "Student.change_school(\"GBU\")\n",
    "s1=Student(\"Nikhil\",\"225/ICS/032\")\n",
    "print(s1.school_name)\n"
   ]
  },
  {
   "cell_type": "code",
   "execution_count": 4,
   "id": "792f2a84",
   "metadata": {},
   "outputs": [
    {
     "name": "stdout",
     "output_type": "stream",
     "text": [
      "NIKHIL 21\n"
     ]
    }
   ],
   "source": [
    "# Alternative Constructor Example\n",
    "class Student:\n",
    "    def __init__(self,name,age):\n",
    "        self.name=name\n",
    "        self.age=age\n",
    "\n",
    "    @classmethod\n",
    "    def from_string(cls,info):\n",
    "        name,age=info.split('-')\n",
    "        return cls(name,int(age))\n",
    "    \n",
    "stud=Student.from_string(\"NIKHIL-21\")\n",
    "print(stud.name,stud.age)"
   ]
  },
  {
   "cell_type": "code",
   "execution_count": 5,
   "id": "febc9945",
   "metadata": {},
   "outputs": [
    {
     "name": "stdout",
     "output_type": "stream",
     "text": [
      "30\n"
     ]
    }
   ],
   "source": [
    "# Static Method\n",
    "# A Static method does not use self or cls.\n",
    "# it behaves like a normal function inside a class.\n",
    "# it does not access class variable or object variable.\n",
    "# Created using @staticmethod decorator.\n",
    "# Example:\n",
    "\n",
    "class MathOps:\n",
    "    \n",
    "    @staticmethod\n",
    "    def add(a, b):\n",
    "        return a + b\n",
    "\n",
    "print(MathOps.add(10, 20))  # 30\n",
    "\n"
   ]
  },
  {
   "cell_type": "code",
   "execution_count": 6,
   "id": "47035553",
   "metadata": {},
   "outputs": [
    {
     "name": "stdout",
     "output_type": "stream",
     "text": [
      "Aman 50000 Google\n",
      "Aman 50000 Microsoft\n",
      "True\n"
     ]
    }
   ],
   "source": [
    "class Employee:\n",
    "    company=\"Google\"\n",
    "\n",
    "    def __init__(self,name,salary):\n",
    "        self.name=name\n",
    "        self.salary=salary\n",
    "\n",
    "    def show(self):\n",
    "        print(self.name,self.salary,Employee.company)\n",
    "\n",
    "    @classmethod\n",
    "    def change_company(cls,new_company):\n",
    "        cls.company=new_company\n",
    "    \n",
    "    @staticmethod\n",
    "    def is_workday(day):\n",
    "        return day.lower() not in [\"saturday\",\"Sunday\"]\n",
    "\n",
    "e1=Employee(\"Aman\",50000)\n",
    "e1.show()\n",
    "Employee.change_company(\"Microsoft\")\n",
    "e1.show()\n",
    "\n",
    "print(Employee.is_workday(\"Sunday\"))"
   ]
  }
 ],
 "metadata": {
  "kernelspec": {
   "display_name": "Python 3",
   "language": "python",
   "name": "python3"
  },
  "language_info": {
   "codemirror_mode": {
    "name": "ipython",
    "version": 3
   },
   "file_extension": ".py",
   "mimetype": "text/x-python",
   "name": "python",
   "nbconvert_exporter": "python",
   "pygments_lexer": "ipython3",
   "version": "3.13.1"
  }
 },
 "nbformat": 4,
 "nbformat_minor": 5
}
