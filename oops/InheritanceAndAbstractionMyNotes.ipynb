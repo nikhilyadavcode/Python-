{
 "cells": [
  {
   "cell_type": "code",
   "execution_count": null,
   "id": "8a6a8b6f",
   "metadata": {},
   "outputs": [],
   "source": [
    "# Inheritance is a feature of object-oriented programming (OOP) that allows a child class (derived class) to acquire properties and method from a parent class (base class).\n",
    "# This helps us reuse code,extend functionality and maintain cleaner programs.\n",
    "\n",
    "# Syntax\n",
    "class Parent:\n",
    "    # parent class members\n",
    "    pass\n",
    "class child(Parent):\n",
    "    # child class members\n",
    "    pass\n"
   ]
  },
  {
   "cell_type": "code",
   "execution_count": 2,
   "id": "86dbdee8",
   "metadata": {},
   "outputs": [
    {
     "name": "stdout",
     "output_type": "stream",
     "text": [
      "Animals make different sounds\n",
      "Dog barks: Woof Woof!\n"
     ]
    }
   ],
   "source": [
    "# Example\n",
    "# Parent class\n",
    "class Animal:\n",
    "    def speak(self):\n",
    "        print(\"Animals make different sounds\")\n",
    "\n",
    "# Child class inheriting Animal\n",
    "class Dog(Animal):\n",
    "    def bark(self):\n",
    "        print(\"Dog barks: Woof Woof!\")\n",
    "\n",
    "# Creating object of child class\n",
    "d = Dog()\n",
    "d.speak()   # Inherited from parent\n",
    "d.bark()    # Defined in child\n",
    "\n",
    "    \n"
   ]
  },
  {
   "cell_type": "code",
   "execution_count": null,
   "id": "fe985009",
   "metadata": {},
   "outputs": [],
   "source": [
    "# Types of inheritance:-\n",
    "       # Single inheritance\n",
    "       # Multiple inheritance\n",
    "       # Multilevel inheritance\n",
    "       # Hierarchial inheritance\n",
    "       # Hybrid inheritance"
   ]
  },
  {
   "cell_type": "code",
   "execution_count": null,
   "id": "a9db9ea7",
   "metadata": {},
   "outputs": [
    {
     "name": "stdout",
     "output_type": "stream",
     "text": [
      "This is the father class\n",
      "This is the father class\n",
      "This is my mother class\n"
     ]
    }
   ],
   "source": [
    "# Single inheritance:-One child inherits from one parent.\n",
    "#Parent\n",
    "# │\n",
    "# ▼\n",
    "#Child\n",
    "\n",
    "class Father:\n",
    "    def show_father(self):\n",
    "        print(\"This is the father class\")\n",
    "\n",
    "class Mother:\n",
    "    def show_mother(self):\n",
    "        print(\"This is my mother class\")\n",
    "\n",
    "class child(Father,Mother):\n",
    "    def show_child(self):\n",
    "        print(\"This is the child class\")\n",
    "\n",
    "obj=child()\n",
    "obj.show_father()\n",
    "obj.show_father()\n",
    "obj.show_mother()"
   ]
  },
  {
   "cell_type": "code",
   "execution_count": 2,
   "id": "2871b78e",
   "metadata": {},
   "outputs": [
    {
     "name": "stdout",
     "output_type": "stream",
     "text": [
      "father's features\n",
      "Mother's features\n",
      "Child's feature\n"
     ]
    }
   ],
   "source": [
    "# Multiple Inheritance:-One child class inherit from multiple parent classes.\n",
    "#   Parent1     Parent2\n",
    "#     \\         /\n",
    "#     \\       /\n",
    "#        Child\n",
    "\n",
    "class Father:\n",
    "    def show_father(self):\n",
    "        print(\"father's features\")\n",
    "class Mother:\n",
    "    def show_mother(self):\n",
    "        print(\"Mother's features\")\n",
    "class child(Father,Mother):\n",
    "    def show_child(self):\n",
    "        print(\"Child's feature\")\n",
    "\n",
    "obj=child()\n",
    "obj.show_father()\n",
    "obj.show_mother()\n",
    "obj.show_child()\n"
   ]
  },
  {
   "cell_type": "code",
   "execution_count": 3,
   "id": "953b8f55",
   "metadata": {},
   "outputs": [
    {
     "name": "stdout",
     "output_type": "stream",
     "text": [
      "This is the grandfather class\n",
      "This is the parent class\n",
      "This is the child class\n"
     ]
    }
   ],
   "source": [
    "# Multilevel Inheritance:-A class inherit from another derived class (multi-step chain).\n",
    "# Grandparent\n",
    "#     │\n",
    "#    ▼\n",
    "#  Parent\n",
    "#    │\n",
    "#    ▼\n",
    "#   Child\n",
    "\n",
    "class Grandparent:\n",
    "    def func1(self):\n",
    "        print(\"This is the grandfather class\")\n",
    "\n",
    "class Parent(Grandparent):\n",
    "    def func2(self):\n",
    "        print(\"This is the parent class\")\n",
    "\n",
    "class Child(Parent):\n",
    "    def funct3(self):\n",
    "        print(\"This is the child class\")\n",
    "\n",
    "obj=Child()\n",
    "obj.func1()\n",
    "obj.func2()\n",
    "obj.funct3()\n"
   ]
  },
  {
   "cell_type": "code",
   "execution_count": 4,
   "id": "37f9d10f",
   "metadata": {},
   "outputs": [
    {
     "name": "stdout",
     "output_type": "stream",
     "text": [
      "This is the first child class\n",
      "This is the First child class\n",
      "This is the second child class\n",
      "This is the First child class\n"
     ]
    }
   ],
   "source": [
    "# Hierarchical Inheritance:-Multiple child classes inherit from one parent class.\n",
    "#         Parent\n",
    "#        /  \\\n",
    "#       /    \\\n",
    "#  Child1   Child2\n",
    "\n",
    "class Parent:\n",
    "    def show_parent(self):\n",
    "        print(\"This is the First child class\")\n",
    "\n",
    "class Child1(Parent):\n",
    "    def show_child1(self):\n",
    "        print(\"This is the first child class\")\n",
    "\n",
    "class Child2(Parent):\n",
    "    def show_child2(self):\n",
    "        print(\"This is the second child class\")\n",
    "\n",
    "obj1=Child1()\n",
    "obj2=Child2()\n",
    "obj1.show_child1()\n",
    "obj1.show_parent()\n",
    "\n",
    "obj2.show_child2()\n",
    "obj2.show_parent()"
   ]
  },
  {
   "cell_type": "code",
   "execution_count": 9,
   "id": "4efd9da6",
   "metadata": {},
   "outputs": [
    {
     "name": "stdout",
     "output_type": "stream",
     "text": [
      "This is the school class\n",
      "This is the student class\n",
      "This is the student class\n",
      "This is the Monitor class\n"
     ]
    }
   ],
   "source": [
    "# Hybrid Inheritance:-A Combination of two or more types of inheritance.\n",
    "#       Parent\n",
    "#      /    \\\n",
    "#  Child1  Child2\n",
    "#      \\\n",
    "#      GrandChild\n",
    "\n",
    "class School:\n",
    "    def show_school(self):\n",
    "        print(\"This is the school class\")\n",
    "\n",
    "class Teacher(School):\n",
    "    def show_teacher(self):\n",
    "        print(\"This is the student class\")\n",
    "\n",
    "class Student(School):\n",
    "    def show_student(self):\n",
    "        print(\"This is the student class\")\n",
    "\n",
    "class Monitor(Teacher,Student):\n",
    "    def show_monitor(self):\n",
    "        print(\"This is the Monitor class\")\n",
    "\n",
    "obj = Monitor()\n",
    "obj.show_school()\n",
    "obj.show_teacher()\n",
    "obj.show_student()\n",
    "obj.show_monitor()\n"
   ]
  },
  {
   "cell_type": "code",
   "execution_count": null,
   "id": "fe0b6c64",
   "metadata": {},
   "outputs": [],
   "source": [
    "# Polymorphism\n",
    "# The word Polymorphism comes from two Greek words:\n",
    "# Poly → many\n",
    "# Morph → forms\n",
    "# So, Polymorphism means “many forms”.\n",
    "# In Object-Oriented Programming (OOP), polymorphism allows the same function name or operator to behave differently depending on the object or data type it is working with.\n",
    "\n",
    "# Type                                               | Description                                                                   |\n",
    "# -------------------------------------------------- | ----------------------------------------------------------------------------- |\n",
    "# **Compile-time Polymorphism (Method Overloading)** | Same method name but different arguments (simulated using default arguments). |\n",
    "# **Runtime Polymorphism (Method Overriding)**       | Child class redefines a parent’s method with the same name and parameters.    |\n"
   ]
  },
  {
   "cell_type": "code",
   "execution_count": 10,
   "id": "5bea91ec",
   "metadata": {},
   "outputs": [
    {
     "name": "stdout",
     "output_type": "stream",
     "text": [
      "5\n",
      "9\n",
      "5\n"
     ]
    }
   ],
   "source": [
    "# I. Compile-time Polymorphism (Method Overloading)\n",
    "# Concept:\n",
    "# In some languages (like Java or C++), method overloading allows multiple methods with the same name but different parameters.\n",
    "# Python doesn’t support true overloading — but we can achieve similar behavior using default arguments or variable-length arguments (*args, **kwargs).\n",
    "\n",
    "class Calculator:\n",
    "    def add(self, a=0, b=0, c=0):\n",
    "        return a + b + c\n",
    "\n",
    "obj = Calculator()\n",
    "\n",
    "print(obj.add(2, 3))       # adds 2 numbers\n",
    "print(obj.add(2, 3, 4))    # adds 3 numbers\n",
    "print(obj.add(5))          # adds 1 number\n"
   ]
  },
  {
   "cell_type": "code",
   "execution_count": 11,
   "id": "e1885011",
   "metadata": {},
   "outputs": [
    {
     "name": "stdout",
     "output_type": "stream",
     "text": [
      "Dog barks\n",
      "Cat meows\n"
     ]
    }
   ],
   "source": [
    "# II. Runtime Polymorphism (Method Overriding)\n",
    "# Concept:\n",
    "\n",
    "# When a child class defines a method with the same name as a parent class,\n",
    "# then the child’s version overrides the parent’s version.\n",
    "# This is method overriding and happens at runtime.\n",
    "\n",
    "class Animal:\n",
    "    def sound(self):\n",
    "        print(\"Animals make sounds\")\n",
    "\n",
    "class Dog(Animal):\n",
    "    def sound(self):  # overriding parent method\n",
    "        print(\"Dog barks\")\n",
    "\n",
    "class Cat(Animal):\n",
    "    def sound(self):\n",
    "        print(\"Cat meows\")\n",
    "\n",
    "# polymorphism\n",
    "for animal in [Dog(), Cat()]:\n",
    "    animal.sound()\n"
   ]
  },
  {
   "cell_type": "code",
   "execution_count": 12,
   "id": "430a7dfd",
   "metadata": {},
   "outputs": [
    {
     "name": "stdout",
     "output_type": "stream",
     "text": [
      "5\n",
      "3\n",
      "2\n"
     ]
    }
   ],
   "source": [
    "# II. Polymorphism with Functions and Built-ins\n",
    "\n",
    "# Python functions can also show polymorphism.\n",
    "print(len(\"Hello\"))        # For string → counts characters\n",
    "print(len([1, 2, 3]))      # For list → counts elements\n",
    "print(len({'a':1, 'b':2})) # For dict → counts keys\n"
   ]
  },
  {
   "cell_type": "code",
   "execution_count": 13,
   "id": "aac03a05",
   "metadata": {},
   "outputs": [
    {
     "name": "stdout",
     "output_type": "stream",
     "text": [
      "Most birds can fly\n",
      "Penguins cannot fly\n"
     ]
    }
   ],
   "source": [
    " # IV. Polymorphism with Class Methods (Common Interface)\n",
    "\n",
    "# Different classes may have methods with same name,\n",
    "# and we can call them in a unified way — without worrying about class type.\n",
    "\n",
    "class Bird:\n",
    "    def fly(self):\n",
    "        print(\"Most birds can fly\")\n",
    "\n",
    "class Penguin:\n",
    "    def fly(self):\n",
    "        print(\"Penguins cannot fly\")\n",
    "\n",
    "# polymorphism using loop\n",
    "for obj in (Bird(), Penguin()):\n",
    "    obj.fly()\n"
   ]
  },
  {
   "cell_type": "code",
   "execution_count": 14,
   "id": "5fb60b4c",
   "metadata": {},
   "outputs": [
    {
     "name": "stdout",
     "output_type": "stream",
     "text": [
      "This is Parent class\n",
      "This is Child class\n"
     ]
    }
   ],
   "source": [
    "# V. Polymorphism with Inheritance + super()\n",
    "\n",
    "# When overriding methods, we can still access the parent’s version using super().\n",
    "class Parent:\n",
    "    def show(self):\n",
    "        print(\"This is Parent class\")\n",
    "\n",
    "class Child(Parent):\n",
    "    def show(self):\n",
    "        super().show()    # call parent method\n",
    "        print(\"This is Child class\")\n",
    "\n",
    "obj = Child()\n",
    "obj.show()\n"
   ]
  },
  {
   "cell_type": "code",
   "execution_count": 15,
   "id": "0ac01cfa",
   "metadata": {},
   "outputs": [
    {
     "name": "stdout",
     "output_type": "stream",
     "text": [
      "15\n",
      "Hi5\n",
      "[1, 2, 3]\n"
     ]
    }
   ],
   "source": [
    "# VI. Operator Overloading (Special Kind of Polymorphism)\n",
    "\n",
    "# Even operators in Python show polymorphism because they behave differently for different data types.\n",
    "print(10 + 5)      # addition of numbers\n",
    "print(\"Hi\" + \"5\")  # concatenation of strings\n",
    "print([1,2] + [3]) # list concatenation\n"
   ]
  }
 ],
 "metadata": {
  "kernelspec": {
   "display_name": "Python 3",
   "language": "python",
   "name": "python3"
  },
  "language_info": {
   "codemirror_mode": {
    "name": "ipython",
    "version": 3
   },
   "file_extension": ".py",
   "mimetype": "text/x-python",
   "name": "python",
   "nbconvert_exporter": "python",
   "pygments_lexer": "ipython3",
   "version": "3.13.1"
  }
 },
 "nbformat": 4,
 "nbformat_minor": 5
}
