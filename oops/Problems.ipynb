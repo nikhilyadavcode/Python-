{
 "cells": [
  {
   "cell_type": "code",
   "execution_count": 1,
   "id": "0e829a9b",
   "metadata": {},
   "outputs": [
    {
     "name": "stdout",
     "output_type": "stream",
     "text": [
      "10\n"
     ]
    }
   ],
   "source": [
    "class MyClass:\n",
    "    def __init__(self,x):\n",
    "        self.x=x\n",
    "    def __str__(self):\n",
    "        return str(self.x)\n",
    "\n",
    "obj=MyClass(10)\n",
    "print(obj)"
   ]
  },
  {
   "cell_type": "code",
   "execution_count": 2,
   "id": "c859bea0",
   "metadata": {},
   "outputs": [
    {
     "name": "stdout",
     "output_type": "stream",
     "text": [
      "3\n"
     ]
    }
   ],
   "source": [
    "class Counter:\n",
    "    count=0\n",
    "    def __init__(self):\n",
    "        Counter.count+=1\n",
    "\n",
    "a=Counter()\n",
    "b=Counter()\n",
    "c=Counter()\n",
    "print(Counter.count)"
   ]
  },
  {
   "cell_type": "code",
   "execution_count": 3,
   "id": "47856ca9",
   "metadata": {},
   "outputs": [
    {
     "name": "stdout",
     "output_type": "stream",
     "text": [
      "5 0\n"
     ]
    }
   ],
   "source": [
    "class MyClass:\n",
    "    def __init__(self,value=0):\n",
    "        self.value=value\n",
    "obj1=MyClass(5)\n",
    "obj2=MyClass()\n",
    "print(obj1.value,obj2.value)"
   ]
  },
  {
   "cell_type": "code",
   "execution_count": 4,
   "id": "711d9c5b",
   "metadata": {},
   "outputs": [
    {
     "name": "stdout",
     "output_type": "stream",
     "text": [
      "8\n"
     ]
    }
   ],
   "source": [
    "class MyClass:\n",
    "    def __init__(self,val):\n",
    "        self.val=val\n",
    "    def increment(self):\n",
    "        self.val+=1\n",
    "        return self\n",
    "\n",
    "obj=MyClass(5)\n",
    "obj.increment().increment().increment()\n",
    "print(obj.val)"
   ]
  },
  {
   "cell_type": "code",
   "execution_count": 5,
   "id": "ef3898fa",
   "metadata": {},
   "outputs": [
    {
     "name": "stdout",
     "output_type": "stream",
     "text": [
      "30\n"
     ]
    }
   ],
   "source": [
    "class MyClass:\n",
    "    def __init__(self,x):\n",
    "        self.x=x\n",
    "    \n",
    "    def __add__(self,other):\n",
    "        return MyClass(self.x+other.x)\n",
    "\n",
    "obj1=MyClass(10)\n",
    "obj2=MyClass(20)\n",
    "obj3=obj1+obj2\n",
    "print(obj3.x)"
   ]
  },
  {
   "cell_type": "code",
   "execution_count": 1,
   "id": "5fc152b6",
   "metadata": {},
   "outputs": [
    {
     "name": "stdout",
     "output_type": "stream",
     "text": [
      "Fibonacci series:\n",
      "01123"
     ]
    }
   ],
   "source": [
    "def Fibonacci(n):\n",
    "    if n<=1:\n",
    "        return n\n",
    "    else:\n",
    "        return Fibonacci(n-1)+Fibonacci(n-2)\n",
    "    \n",
    "n_terms=int(input(\"Enter number of terms\"))\n",
    "print(\"Fibonacci series:\")\n",
    "for i in range(n_terms):\n",
    "    print(Fibonacci(i),end=\"\")"
   ]
  },
  {
   "cell_type": "code",
   "execution_count": 2,
   "id": "6415a684",
   "metadata": {},
   "outputs": [
    {
     "name": "stdout",
     "output_type": "stream",
     "text": [
      "Factorial of 5 is 120\n"
     ]
    }
   ],
   "source": [
    "def factorial(n):\n",
    "    if n==0 or n==1:\n",
    "        return 1\n",
    "    else:\n",
    "        return n*factorial(n-1)\n",
    "    \n",
    "num=int(input(\"Enter a number:\"))\n",
    "print(\"Factorial of\",num,\"is\",factorial(num))"
   ]
  },
  {
   "cell_type": "code",
   "execution_count": 5,
   "id": "a56ced11",
   "metadata": {},
   "outputs": [
    {
     "name": "stdout",
     "output_type": "stream",
     "text": [
      "Factorial of 6 is 720\n"
     ]
    }
   ],
   "source": [
    "def factorial_iterative(n):\n",
    "    fact=1\n",
    "    for i in range(1,n+1):\n",
    "        fact*=i\n",
    "    return fact\n",
    "\n",
    "num=int(input(\"Enter a number:\"))\n",
    "print(\"Factorial of\",num,\"is\",factorial_iterative(num))"
   ]
  },
  {
   "cell_type": "code",
   "execution_count": 6,
   "id": "f73d56da",
   "metadata": {},
   "outputs": [
    {
     "name": "stdout",
     "output_type": "stream",
     "text": [
      "Factorial of 5 is 120\n"
     ]
    }
   ],
   "source": [
    "import math\n",
    "num=int(input(\"Enter a number:\"))\n",
    "print(\"Factorial of\",num,\"is\",math.factorial(num))"
   ]
  },
  {
   "cell_type": "code",
   "execution_count": null,
   "id": "2a5e0b46",
   "metadata": {},
   "outputs": [],
   "source": [
    "# if condition1:\n",
    "#   if condition2:\n",
    "#     print(\"Both condition are true\")\n",
    "#   else:\n",
    "#        print(\"Only condition1 is true\")\n",
    "# else:\n",
    "#    print(\"Condition 1 is false\")"
   ]
  },
  {
   "cell_type": "code",
   "execution_count": 9,
   "id": "277d1a06",
   "metadata": {},
   "outputs": [
    {
     "name": "stdout",
     "output_type": "stream",
     "text": [
      "Invalid marks\n"
     ]
    }
   ],
   "source": [
    "marks=int(input(\"Enter your marks:\"))\n",
    "if marks>=90:\n",
    "    if marks<=100:\n",
    "        print(\"Grade:A\")\n",
    "    else:\n",
    "        print(\"Invalid marks\")\n",
    "else:\n",
    "    if marks>=75:\n",
    "        print(\"Grade:B\")\n",
    "    else:\n",
    "        if marks>=50:\n",
    "         print(\"Grade:C\")\n",
    "        else:\n",
    "            print(\"Fail\")"
   ]
  },
  {
   "cell_type": "code",
   "execution_count": 10,
   "id": "d9056bf2",
   "metadata": {},
   "outputs": [
    {
     "name": "stdout",
     "output_type": "stream",
     "text": [
      "Invalid marks\n"
     ]
    }
   ],
   "source": [
    "# improved Version\n",
    "marks=int(input(\"Enter your marks:\"))\n",
    "if marks>100 or marks<0:\n",
    "    print(\"Invalid marks\")\n",
    "elif marks>=90:\n",
    "    print(\"Grade:A\")\n",
    "elif marks>=75:\n",
    "    print(\"Grade:B\")\n",
    "elif marks>=50:\n",
    "    print(\"Grade:C\")\n",
    "else:\n",
    "    print(\"Fail\")"
   ]
  },
  {
   "cell_type": "code",
   "execution_count": 12,
   "id": "37c4849f",
   "metadata": {},
   "outputs": [
    {
     "name": "stdout",
     "output_type": "stream",
     "text": [
      "Reversed string: tpgtahc\n"
     ]
    }
   ],
   "source": [
    "def reverse_string(s):\n",
    "    if len(s) == 0:\n",
    "        return s\n",
    "    else:\n",
    "        return reverse_string(s[1:]) + s[0]\n",
    "\n",
    "string = input(\"Enter a string: \")\n",
    "print(\"Reversed string:\", reverse_string(string))\n"
   ]
  },
  {
   "cell_type": "code",
   "execution_count": 13,
   "id": "3b7c1075",
   "metadata": {},
   "outputs": [
    {
     "name": "stdout",
     "output_type": "stream",
     "text": [
      "Reversed string: tpgtahc\n"
     ]
    }
   ],
   "source": [
    "string=input(\"Enter a string:\")\n",
    "reversed_str=\"\"\n",
    "index=len(string)-1\n",
    "\n",
    "while index>=0:\n",
    "    reversed_str+=string[index]\n",
    "    index-=1\n",
    "\n",
    "print(\"Reversed string:\",reversed_str)"
   ]
  },
  {
   "cell_type": "code",
   "execution_count": null,
   "id": "ae05e310",
   "metadata": {},
   "outputs": [
    {
     "name": "stdout",
     "output_type": "stream",
     "text": [
      "Reversed string: tpgtahc\n"
     ]
    },
    {
     "ename": "",
     "evalue": "",
     "output_type": "error",
     "traceback": [
      "\u001b[1;31mThe Kernel crashed while executing code in the current cell or a previous cell. \n",
      "\u001b[1;31mPlease review the code in the cell(s) to identify a possible cause of the failure. \n",
      "\u001b[1;31mClick <a href='https://aka.ms/vscodeJupyterKernelCrash'>here</a> for more info. \n",
      "\u001b[1;31mView Jupyter <a href='command:jupyter.viewOutput'>log</a> for further details."
     ]
    }
   ],
   "source": [
    "string=input(\"Enter a string:\")\n",
    "reversed_str=\"\"\n",
    "for ch in string:\n",
    "    reversed_str=ch+reversed_str\n",
    "\n",
    "print(\"Reversed string:\",reversed_str)"
   ]
  }
 ],
 "metadata": {
  "kernelspec": {
   "display_name": "Python 3",
   "language": "python",
   "name": "python3"
  },
  "language_info": {
   "codemirror_mode": {
    "name": "ipython",
    "version": 3
   },
   "file_extension": ".py",
   "mimetype": "text/x-python",
   "name": "python",
   "nbconvert_exporter": "python",
   "pygments_lexer": "ipython3",
   "version": "3.13.1"
  }
 },
 "nbformat": 4,
 "nbformat_minor": 5
}
