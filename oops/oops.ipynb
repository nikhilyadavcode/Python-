{
 "cells": [
  {
   "cell_type": "code",
   "execution_count": null,
   "id": "9f742056",
   "metadata": {},
   "outputs": [
    {
     "name": "stdout",
     "output_type": "stream",
     "text": [
      "Car is accelerating\n"
     ]
    }
   ],
   "source": [
    "# OOPS:-oops is a (object oriented programming system) is a method of programming that organizes software design around data or object rather than function and logic.\n",
    "# class:-A blueprint or templates for creating object.\n",
    "# object:-An instance of class(real-world example).\n",
    "\n",
    "\n",
    "class Car:\n",
    "    def accelerate(self):\n",
    "        print(\"Car is accelerating\")\n",
    "# self>> A variable that represent of the class using which you can acess method/function of the class,also attribute/property of the class.\n",
    "# self makes sure that each object knows that the method is associated with it.\n",
    "# In other words the method is referenced to that particular object.\n",
    "c1=Car()\n",
    "c1.accelerate()"
   ]
  },
  {
   "cell_type": "code",
   "execution_count": 4,
   "id": "d7fbb8ee",
   "metadata": {},
   "outputs": [
    {
     "name": "stdout",
     "output_type": "stream",
     "text": [
      "Car is accelerating\n",
      "Car is stopping\n"
     ]
    }
   ],
   "source": [
    "class Car:\n",
    "    def accelerate(self):\n",
    "        print(\"Car is accelerating\")\n",
    "    def brake(self):\n",
    "       print(\"Car is stopping\")\n",
    "\n",
    "c1=Car()\n",
    "c1.accelerate()\n",
    "c1.brake()"
   ]
  },
  {
   "cell_type": "code",
   "execution_count": 9,
   "id": "0debb151",
   "metadata": {},
   "outputs": [
    {
     "name": "stdout",
     "output_type": "stream",
     "text": [
      "I am depositing the money\n"
     ]
    }
   ],
   "source": [
    "class Bank:\n",
    "    def deposite(self):\n",
    "        print(\"I am depositing the money\")\n",
    "\n",
    "c1=Bank()\n",
    "c1.deposite()"
   ]
  },
  {
   "cell_type": "code",
   "execution_count": null,
   "id": "7a401150",
   "metadata": {},
   "outputs": [
    {
     "name": "stdout",
     "output_type": "stream",
     "text": [
      "I am deposite the money\n",
      "I am withdraw some money\n"
     ]
    }
   ],
   "source": [
    "# passing data in the class>>can also be called as property/attribute.\n",
    "# Bank will ask for a default amount\n",
    "class Bank:\n",
    "    def deposite(self,amount):\n",
    "        print(\"I am deposite the money\")\n",
    "    def withdraw(self,amount_withdraw):\n",
    "        print(\"I am withdraw some money\")\n",
    "\n",
    "nikhil=Bank()\n",
    "nikhil.deposite(1000)\n",
    "nikhil.withdraw(1000)\n",
    "\n"
   ]
  },
  {
   "cell_type": "code",
   "execution_count": 13,
   "id": "767d32f7",
   "metadata": {},
   "outputs": [
    {
     "name": "stdout",
     "output_type": "stream",
     "text": [
      "I am deposite the money\n"
     ]
    },
    {
     "data": {
      "text/plain": [
       "1000"
      ]
     },
     "execution_count": 13,
     "metadata": {},
     "output_type": "execute_result"
    }
   ],
   "source": [
    "# Bank will ask for a default amount,amount is attribute/property/data of a class bank.\n",
    "class Bank():\n",
    "    amount=1000\n",
    "    def deposite(self,amount):\n",
    "        print(\"I am deposite the money\")\n",
    "    def withdraw(self,amount):\n",
    "        print(\"I am withdraw the money\")\n",
    "\n",
    "c1=Bank()\n",
    "c1.deposite(1000)\n",
    "\n",
    "# Attributes/property can also accessed the same way as method/function can accessed.\n",
    "c1.amount"
   ]
  },
  {
   "cell_type": "code",
   "execution_count": 18,
   "id": "29e3e3e4",
   "metadata": {},
   "outputs": [
    {
     "data": {
      "text/plain": [
       "[]"
      ]
     },
     "execution_count": 18,
     "metadata": {},
     "output_type": "execute_result"
    }
   ],
   "source": [
    "# Extract odd and even number from a list\n",
    "\n",
    "class ListOps:\n",
    "    l=[1,2,3,4,5]\n",
    "    def extract_even(self,l):\n",
    "        l1=[]\n",
    "        for i in l:\n",
    "            if i%2==0:\n",
    "                l1.appned(i)\n",
    "            return l1\n",
    "    def extract_odd(self,l):\n",
    "        l1=[]\n",
    "        for i in l:\n",
    "            if i%2!=0:\n",
    "                l1.append(i)\n",
    "            return l1\n",
    "opr1=ListOps()\n",
    "opr1.l\n",
    "opr1.extract_even(opr1.l)"
   ]
  },
  {
   "cell_type": "code",
   "execution_count": 19,
   "id": "396d1521",
   "metadata": {},
   "outputs": [
    {
     "data": {
      "text/plain": [
       "[1, 2, 3, 4, 5]"
      ]
     },
     "execution_count": 19,
     "metadata": {},
     "output_type": "execute_result"
    }
   ],
   "source": [
    "# if you make any object the attribute L is fixed\n",
    "# inspite of passing a different list above you are still getting the fixed L([1,2,3,4]).\n",
    "opr1.l"
   ]
  },
  {
   "cell_type": "code",
   "execution_count": 24,
   "id": "393f2f7b",
   "metadata": {},
   "outputs": [
    {
     "name": "stdout",
     "output_type": "stream",
     "text": [
      "Even numbers: [2, 4, 6, 8]\n",
      "Odd numbers: [1, 3, 5, 7]\n"
     ]
    }
   ],
   "source": [
    "# If you want to take the attribute value of the class for each object differently.\n",
    "\n",
    "class ListOps:\n",
    "    def __init__(self):\n",
    "        self.l = [1, 2, 3, 4, 5, 6, 7, 8]\n",
    "\n",
    "    def extract_even(self):\n",
    "        l = self.l\n",
    "        l1 = []\n",
    "        for i in l:\n",
    "            if i % 2 == 0:\n",
    "                l1.append(i)\n",
    "        return l1\n",
    "\n",
    "    def extract_odd(self):\n",
    "        l = self.l\n",
    "        l1 = []\n",
    "        for i in l:\n",
    "            if i % 2 != 0:\n",
    "                l1.append(i)\n",
    "        return l1\n",
    "\n",
    "\n",
    "# Object creation\n",
    "obj = ListOps()\n",
    "\n",
    "print(\"Even numbers:\", obj.extract_even())\n",
    "print(\"Odd numbers:\", obj.extract_odd())\n",
    "\n",
    "\n",
    "# ops1=ListOps() # throw an error , while making object/instance of the class,the first method that is executed _init().\n",
    "# and init needs an arguments.\n",
    "\n"
   ]
  },
  {
   "cell_type": "code",
   "execution_count": null,
   "id": "17a5f7d8",
   "metadata": {},
   "outputs": [
    {
     "name": "stdout",
     "output_type": "stream",
     "text": [
      "Machine Learning Murphy\n"
     ]
    },
    {
     "ename": "",
     "evalue": "",
     "output_type": "error",
     "traceback": [
      "\u001b[1;31mThe Kernel crashed while executing code in the current cell or a previous cell. \n",
      "\u001b[1;31mPlease review the code in the cell(s) to identify a possible cause of the failure. \n",
      "\u001b[1;31mClick <a href='https://aka.ms/vscodeJupyterKernelCrash'>here</a> for more info. \n",
      "\u001b[1;31mView Jupyter <a href='command:jupyter.viewOutput'>log</a> for further details."
     ]
    }
   ],
   "source": [
    "# multiple attribute\n",
    "# in a library a book is associated with author,title,name\n",
    "class Book:\n",
    "    def __init__(self, name, author, title):   # ✅ Correct constructor\n",
    "        self.name_of_book = name\n",
    "        self.book_author = author\n",
    "        self.title_name = title\n",
    "\n",
    "    def extract_details_name_title(self):\n",
    "        print(self.name_of_book, self.title_name)\n",
    "    \n",
    "    def extract_details_name_author(self):\n",
    "        print(self.name_of_book, self.book_author)\n",
    "\n",
    "\n",
    "# ✅ Object creation (outside the class)\n",
    "student1 = Book(\"Machine Learning\", \"Murphy\", \"Linear Regression\")\n",
    "\n",
    "# ✅ Method call\n",
    "student1.extract_details_name_author()\n",
    "\n",
    "\n"
   ]
  }
 ],
 "metadata": {
  "kernelspec": {
   "display_name": "Python 3",
   "language": "python",
   "name": "python3"
  },
  "language_info": {
   "codemirror_mode": {
    "name": "ipython",
    "version": 3
   },
   "file_extension": ".py",
   "mimetype": "text/x-python",
   "name": "python",
   "nbconvert_exporter": "python",
   "pygments_lexer": "ipython3",
   "version": "3.13.1"
  }
 },
 "nbformat": 4,
 "nbformat_minor": 5
}
