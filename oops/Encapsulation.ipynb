{
 "cells": [
  {
   "cell_type": "code",
   "execution_count": null,
   "id": "ebcf0cb7",
   "metadata": {},
   "outputs": [],
   "source": [
    "# Encapsulation:-Protecting data inside a class and allowing only through controlled method.\n",
    "# we keep data and related function in one unit.\n",
    "# Direct access to sensitive data is restricted.\n",
    " \n",
    "\n",
    "# Why encapsulation is needed?\n",
    "# To hide data from direct modification.\n",
    "# To maintain security and integrity of data.\n",
    "# To give controlled access using method.\n",
    "# To prevent misuse or accidental changes."
   ]
  },
  {
   "cell_type": "code",
   "execution_count": null,
   "id": "c840a983",
   "metadata": {},
   "outputs": [
    {
     "name": "stdout",
     "output_type": "stream",
     "text": [
      "Master\n"
     ]
    }
   ],
   "source": [
    "# private data member\n",
    "# it gives the error\n",
    "class student:\n",
    "    def __init__(self,name,degree):\n",
    "        self.name=name\n",
    "        self.__degree=degree\n",
    "    def show(self):\n",
    "        print(\"Name:\",self.name,\"Degree\",self.__degree)\n",
    "    \n",
    "\n",
    "obj=student(\"Nikhil\",\"Master\")\n",
    "print(obj.__degree)"
   ]
  },
  {
   "cell_type": "code",
   "execution_count": 4,
   "id": "6503679a",
   "metadata": {},
   "outputs": [
    {
     "name": "stdout",
     "output_type": "stream",
     "text": [
      "Master\n",
      "PhD\n"
     ]
    }
   ],
   "source": [
    "# Getter and Setter mathods\n",
    "\n",
    "class student:\n",
    "    def __init__(self,name,degree):\n",
    "        self.__degree=degree\n",
    "    \n",
    "    def get_degree(self):\n",
    "        return self.__degree\n",
    "    \n",
    "    def set_degree(self,degree):\n",
    "        self.__degree=degree\n",
    "\n",
    "obj=student(\"Nikhil\",\"Master\")\n",
    "print(obj.get_degree())\n",
    "\n",
    "obj.set_degree(\"PhD\")\n",
    "print(obj.get_degree())"
   ]
  },
  {
   "cell_type": "code",
   "execution_count": 5,
   "id": "592a82a4",
   "metadata": {},
   "outputs": [
    {
     "name": "stdout",
     "output_type": "stream",
     "text": [
      "Nikhil\n"
     ]
    }
   ],
   "source": [
    "# Public members\n",
    "# these can be accessed from anywhere in the program.\n",
    "\n",
    "# Syntax\n",
    "# self._name\n",
    "\n",
    "class Student:\n",
    "    def __init__(self,name):\n",
    "        self.name=name\n",
    "\n",
    "obj=Student(\"Nikhil\")\n",
    "print(obj.name)"
   ]
  },
  {
   "cell_type": "code",
   "execution_count": 7,
   "id": "64fb448c",
   "metadata": {},
   "outputs": [
    {
     "name": "stdout",
     "output_type": "stream",
     "text": [
      "Age: 20\n",
      "20\n"
     ]
    }
   ],
   "source": [
    "# Protected members\n",
    "# these are meant for internal use within the class and its subclass.\n",
    "# Syntax:\n",
    "#self._age\n",
    "\n",
    "# Example:-\n",
    "class Student:\n",
    "    def __init__(self, age):\n",
    "        self._age = age   # protected\n",
    "\n",
    "class Child(Student):\n",
    "    def display(self):\n",
    "        print(\"Age:\", self._age)\n",
    "\n",
    "obj = Child(20)\n",
    "obj.display()\n",
    "print(obj._age)   # Technically allowed, but not recommended\n",
    "\n"
   ]
  },
  {
   "cell_type": "code",
   "execution_count": 11,
   "id": "01a2ab33",
   "metadata": {},
   "outputs": [
    {
     "name": "stdout",
     "output_type": "stream",
     "text": [
      "Masters\n"
     ]
    },
    {
     "ename": "AttributeError",
     "evalue": "'Student' object has no attribute '__degree'",
     "output_type": "error",
     "traceback": [
      "\u001b[31m---------------------------------------------------------------------------\u001b[39m",
      "\u001b[31mAttributeError\u001b[39m                            Traceback (most recent call last)",
      "\u001b[36mCell\u001b[39m\u001b[36m \u001b[39m\u001b[32mIn[11]\u001b[39m\u001b[32m, line 13\u001b[39m\n\u001b[32m     11\u001b[39m obj = Student(\u001b[33m\"\u001b[39m\u001b[33mMasters\u001b[39m\u001b[33m\"\u001b[39m)\n\u001b[32m     12\u001b[39m obj.show()\n\u001b[32m---> \u001b[39m\u001b[32m13\u001b[39m \u001b[38;5;28mprint\u001b[39m(\u001b[43mobj\u001b[49m\u001b[43m.\u001b[49m\u001b[43m__degree\u001b[49m)   \u001b[38;5;66;03m# Not allowed: Error\u001b[39;00m\n",
      "\u001b[31mAttributeError\u001b[39m: 'Student' object has no attribute '__degree'"
     ]
    }
   ],
   "source": [
    "# private:-These are strictly hidden.only accessible inside the class.\n",
    "# self.__degree\n",
    "\n",
    "class Student:\n",
    "    def __init__(self, degree):\n",
    "        self.__degree = degree   # private\n",
    "\n",
    "    def show(self):\n",
    "        print(self.__degree)     # allowed inside class\n",
    "\n",
    "obj = Student(\"Masters\")\n",
    "obj.show()\n",
    "print(obj.__degree)   # Not allowed: Error\n"
   ]
  }
 ],
 "metadata": {
  "kernelspec": {
   "display_name": "Python 3",
   "language": "python",
   "name": "python3"
  },
  "language_info": {
   "codemirror_mode": {
    "name": "ipython",
    "version": 3
   },
   "file_extension": ".py",
   "mimetype": "text/x-python",
   "name": "python",
   "nbconvert_exporter": "python",
   "pygments_lexer": "ipython3",
   "version": "3.13.1"
  }
 },
 "nbformat": 4,
 "nbformat_minor": 5
}
