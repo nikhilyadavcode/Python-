{
 "cells": [
  {
   "cell_type": "code",
   "execution_count": null,
   "id": "9e73c6be",
   "metadata": {},
   "outputs": [],
   "source": [
    "# polymorphism >> poly means many and morphism means forms/states.\n",
    "# refers to an object taking several forms depending on the methods/data.\n"
   ]
  },
  {
   "cell_type": "code",
   "execution_count": 2,
   "id": "afadd285",
   "metadata": {},
   "outputs": [
    {
     "name": "stdout",
     "output_type": "stream",
     "text": [
      "This is lec info with teacher respective\n",
      "This is lec info with student perspective\n"
     ]
    }
   ],
   "source": [
    "class teacher_lecture:\n",
    "    def lec_info(self):\n",
    "        print(\"This is lec info with teacher respective\")\n",
    "class student_lecture:\n",
    "    def lec_info(self):\n",
    "        print(\"This is lec info with student perspective\")\n",
    "\n",
    "obj1=teacher_lecture()\n",
    "obj2=student_lecture()\n",
    "class_obj=[obj1,obj2]\n",
    "\n",
    "def parcer(class_obj):\n",
    "    for i in class_obj:\n",
    "        i.lec_info()# at this point,lec_info is talking two forms wrt teacher and students\n",
    "\n",
    "parcer(class_obj)"
   ]
  },
  {
   "cell_type": "code",
   "execution_count": null,
   "id": "2498ea3a",
   "metadata": {},
   "outputs": [],
   "source": [
    "# Polymorphism in oops takes places in two ways:\n",
    "# Method overloading>>Python doen't support true method overloading.\n",
    "# Method overriding"
   ]
  },
  {
   "cell_type": "code",
   "execution_count": 6,
   "id": "06b94168",
   "metadata": {},
   "outputs": [
    {
     "name": "stdout",
     "output_type": "stream",
     "text": [
      "Welcome to pwskills class  \n",
      "Welcome to pwskills class Nikhil Yadav \n",
      "Welcome to pwskills class DataScience Course \n",
      "Welcome to pwskills class Nikhil Yadav DataScience Course\n"
     ]
    }
   ],
   "source": [
    "# Method overloading\n",
    "\n",
    "class student:\n",
    "    def student(self):\n",
    "        print(\"Welcome to pwskills class\")\n",
    "    def student(self,name=\"\"):\n",
    "        print(\"Welcome to pwskills class\",name)\n",
    "    def student(self,name=\"\",course=\"\"):\n",
    "        print(\"Welcome to pwskills class\",name,course)\n",
    "\n",
    "stud=student()\n",
    "stud.student()\n",
    "stud.student(\"Nikhil Yadav\")\n",
    "stud.student(\"DataScience Course\")\n",
    "stud.student(\"Nikhil Yadav\",\"DataScience Course\")"
   ]
  },
  {
   "cell_type": "code",
   "execution_count": 8,
   "id": "1ee356b2",
   "metadata": {},
   "outputs": [
    {
     "name": "stdout",
     "output_type": "stream",
     "text": [
      "Welcome to pwskills class  \n",
      "Welcome to pwskills class Nikhil \n",
      "Welcome to pwskills class Nikhil DataScience\n"
     ]
    }
   ],
   "source": [
    "# method overloading >> student method is taking different forms,the last methods overloads the pevious one over a same class.\n",
    "\n",
    "class student:\n",
    "    def student(self,name=\"\",course=\"\"):\n",
    "        print(\"Welcome to pwskills class\",name,course)\n",
    "\n",
    "stud=student()\n",
    "stud.student()\n",
    "stud.student(\"Nikhil\")\n",
    "stud.student(\"Nikhil\",\"DataScience\")"
   ]
  },
  {
   "cell_type": "code",
   "execution_count": null,
   "id": "5843fbd3",
   "metadata": {},
   "outputs": [],
   "source": [
    "# Method overloading happens in the same class."
   ]
  },
  {
   "cell_type": "code",
   "execution_count": 9,
   "id": "bfc64b0c",
   "metadata": {},
   "outputs": [
    {
     "name": "stdout",
     "output_type": "stream",
     "text": [
      "Animal Sound\n",
      "cat meows\n"
     ]
    }
   ],
   "source": [
    "# method overriding>> method in parent class and child class with same signature,the child class method will be executed .\n",
    "\n",
    "class Animal:\n",
    "    def sound(self):\n",
    "        print(\"Animal Sound\")\n",
    "class Cat(Animal):\n",
    "    def sound(self):\n",
    "        print(\"cat meows\")\n",
    "\n",
    "anm=Animal()\n",
    "anm.sound()\n",
    "cat=Cat()\n",
    "cat.sound()"
   ]
  },
  {
   "cell_type": "code",
   "execution_count": null,
   "id": "f5e25480",
   "metadata": {},
   "outputs": [],
   "source": [
    "# Encapsulation>> means hiding something.\n",
    "# Bundling of data and method of a class.\n",
    "# Access modifier>>public,protected,private.\n",
    "# public>>accessible from anywhere from outside/inside of class."
   ]
  },
  {
   "cell_type": "code",
   "execution_count": 12,
   "id": "9aec6487",
   "metadata": {},
   "outputs": [
    {
     "name": "stdout",
     "output_type": "stream",
     "text": [
      "Nikhil\n",
      "Computer Science\n"
     ]
    }
   ],
   "source": [
    "class Student:\n",
    "    def __init__(self, name, degree):\n",
    "        self.name = name\n",
    "        self.degree = degree\n",
    "\n",
    "stud = Student(\"Nikhil\", \"Computer Science\")\n",
    "print(stud.name)\n",
    "print(stud.degree)\n"
   ]
  },
  {
   "cell_type": "code",
   "execution_count": 14,
   "id": "165a4804",
   "metadata": {},
   "outputs": [
    {
     "name": "stdout",
     "output_type": "stream",
     "text": [
      "name Ram degree Master\n"
     ]
    }
   ],
   "source": [
    "# Private>> The data and method is only accessible within the class,use__to make private.\n",
    "# accessing the public data member inside the other member of some class.\n",
    "class student:\n",
    "    def __init__(self,name,degree):\n",
    "         self.name=name\n",
    "         self.degree=degree\n",
    "\n",
    "    def show(self):\n",
    "         # accessing the private and public data member.\n",
    "         print(\"name\",self.name,'degree',self.degree)\n",
    "\n",
    "aj=student(\"Ram\",\"Master\")\n",
    "aj.show()"
   ]
  },
  {
   "cell_type": "code",
   "execution_count": 15,
   "id": "8e86f19c",
   "metadata": {},
   "outputs": [
    {
     "data": {
      "text/plain": [
       "'Ram'"
      ]
     },
     "execution_count": 15,
     "metadata": {},
     "output_type": "execute_result"
    }
   ],
   "source": [
    "aj.name"
   ]
  },
  {
   "cell_type": "code",
   "execution_count": 16,
   "id": "aba4a8b3",
   "metadata": {},
   "outputs": [
    {
     "data": {
      "text/plain": [
       "'Master'"
      ]
     },
     "execution_count": 16,
     "metadata": {},
     "output_type": "execute_result"
    }
   ],
   "source": [
    "aj.degree"
   ]
  },
  {
   "cell_type": "code",
   "execution_count": 2,
   "id": "d95fa0ef",
   "metadata": {},
   "outputs": [
    {
     "name": "stdout",
     "output_type": "stream",
     "text": [
      "name Ajay degree Master\n",
      "This is a private method\n"
     ]
    }
   ],
   "source": [
    "# method private\n",
    "class Student:\n",
    "    def __init__(self, name, degree):\n",
    "        self.name = name\n",
    "        self.__degree = degree\n",
    "\n",
    "    def show(self):\n",
    "        print(\"name\", self.name, \"degree\", self.__degree)\n",
    "\n",
    "    def __private_method(self):\n",
    "        print(\"This is a private method\")\n",
    "\n",
    "\n",
    "obj1 = Student(\"Ajay\", \"Master\")\n",
    "obj1.show()\n",
    "\n",
    "# Accessing private method using name mangling (not recommended)\n",
    "obj1._Student__private_method()\n",
    "\n",
    "\n"
   ]
  },
  {
   "cell_type": "code",
   "execution_count": 5,
   "id": "12fb4c22",
   "metadata": {},
   "outputs": [
    {
     "name": "stdout",
     "output_type": "stream",
     "text": [
      "This is a private method\n"
     ]
    }
   ],
   "source": [
    "# way to provide an operation to see the private method >> a wrapper\n",
    "\n",
    "class Student:\n",
    "    def __init__(self,name,degree):\n",
    "        self.name=name\n",
    "        self.__degree=degree\n",
    "\n",
    "    def show(self):\n",
    "        # accessing the private data member\n",
    "        print(\"name\",self.name,\"degree\",self.__degree)\n",
    "\n",
    "    def __private_method(self):\n",
    "        print(\"This is a private method\")\n",
    "    \n",
    "    def access_private_method(self):\n",
    "        self.__private_method()\n",
    "\n",
    "obj1=Student(\"AJ\",\"Masters\")\n",
    "obj1.access_private_method()"
   ]
  },
  {
   "cell_type": "code",
   "execution_count": null,
   "id": "ec5bcb15",
   "metadata": {},
   "outputs": [
    {
     "ename": "AttributeError",
     "evalue": "'Car' object has no attribute 'year'",
     "output_type": "error",
     "traceback": [
      "\u001b[31m---------------------------------------------------------------------------\u001b[39m",
      "\u001b[31mAttributeError\u001b[39m                            Traceback (most recent call last)",
      "\u001b[36mCell\u001b[39m\u001b[36m \u001b[39m\u001b[32mIn[6]\u001b[39m\u001b[32m, line 10\u001b[39m\n\u001b[32m      7\u001b[39m         \u001b[38;5;28mself\u001b[39m.__model=model\n\u001b[32m      9\u001b[39m c1=Car(\u001b[33m\"\u001b[39m\u001b[33m1995\u001b[39m\u001b[33m\"\u001b[39m,\u001b[33m\"\u001b[39m\u001b[33mMaruti\u001b[39m\u001b[33m\"\u001b[39m,\u001b[33m\"\u001b[39m\u001b[33m80\u001b[39m\u001b[33m\"\u001b[39m,\u001b[33m\"\u001b[39m\u001b[33mBrezza\u001b[39m\u001b[33m\"\u001b[39m)\n\u001b[32m---> \u001b[39m\u001b[32m10\u001b[39m \u001b[43mc1\u001b[49m\u001b[43m.\u001b[49m\u001b[43myear\u001b[49m\n",
      "\u001b[31mAttributeError\u001b[39m: 'Car' object has no attribute 'year'"
     ]
    }
   ],
   "source": [
    "# Another use case\n",
    "class Car:\n",
    "    def __init__(self,year,make,speed,model):\n",
    "        self.__year=year\n",
    "        self.__make=make\n",
    "        self.__speed=speed\n",
    "        self.__model=model\n",
    "\n",
    "c1=Car(\"1995\",\"Maruti\",\"80\",\"Brezza\")\n",
    "c1.year # Since all variable are private,it will throw an error"
   ]
  },
  {
   "cell_type": "code",
   "execution_count": 7,
   "id": "967eb332",
   "metadata": {},
   "outputs": [
    {
     "data": {
      "text/plain": [
       "'80'"
      ]
     },
     "execution_count": 7,
     "metadata": {},
     "output_type": "execute_result"
    }
   ],
   "source": [
    "# another use case of modifying the private variable and accessing it.\n",
    "class Car:\n",
    "    def __init__(self,year,make,speed,model):\n",
    "        self.__year=year\n",
    "        self.__make=make\n",
    "        self.__speed=speed\n",
    "        self.__model=model\n",
    "\n",
    "    def set_speed(self,speed):\n",
    "        self.__spees=0 if speed < 0 else speed\n",
    "    def get_speed(self):\n",
    "        return self.__speed\n",
    "\n",
    "c1=Car(\"1995\",\"Maruti\",\"80\",\"Brezza\")\n",
    "c1.get_speed()"
   ]
  },
  {
   "cell_type": "code",
   "execution_count": 10,
   "id": "6b27e9e6",
   "metadata": {},
   "outputs": [],
   "source": [
    "c1.set_speed(1000)"
   ]
  },
  {
   "cell_type": "code",
   "execution_count": 11,
   "id": "05d7be32",
   "metadata": {},
   "outputs": [
    {
     "data": {
      "text/plain": [
       "'80'"
      ]
     },
     "execution_count": 11,
     "metadata": {},
     "output_type": "execute_result"
    }
   ],
   "source": [
    "c1.get_speed()"
   ]
  },
  {
   "cell_type": "code",
   "execution_count": 14,
   "id": "2dbbb9b2",
   "metadata": {},
   "outputs": [
    {
     "data": {
      "text/plain": [
       "'80'"
      ]
     },
     "execution_count": 14,
     "metadata": {},
     "output_type": "execute_result"
    }
   ],
   "source": [
    "c1.set_speed(100)\n",
    "c1.get_speed()"
   ]
  },
  {
   "cell_type": "code",
   "execution_count": 16,
   "id": "dbf7d744",
   "metadata": {},
   "outputs": [
    {
     "data": {
      "text/plain": [
       "1000"
      ]
     },
     "execution_count": 16,
     "metadata": {},
     "output_type": "execute_result"
    }
   ],
   "source": [
    "# another use case\n",
    "\n",
    "class Bank:\n",
    "    def __init__(self,balance):\n",
    "        self.__balance=balance\n",
    "\n",
    "    def deposite(self,amount): # amount is new deposition\n",
    "        self.__balance=self.__balance+amount\n",
    "\n",
    "    def withdraw(self,amount):\n",
    "        if self.__balance>=amount:\n",
    "            self.__balance=self.__balance-amount\n",
    "            return True\n",
    "        else:\n",
    "            return False\n",
    "        \n",
    "   \n",
    "    def get_balance(self):\n",
    "         return self.__balance\n",
    "\n",
    "acc1=Bank(1000)\n",
    "acc1.get_balance()"
   ]
  },
  {
   "cell_type": "code",
   "execution_count": 17,
   "id": "792cd445",
   "metadata": {},
   "outputs": [
    {
     "data": {
      "text/plain": [
       "1000"
      ]
     },
     "execution_count": 17,
     "metadata": {},
     "output_type": "execute_result"
    }
   ],
   "source": [
    "acc1.get_balance()"
   ]
  },
  {
   "cell_type": "code",
   "execution_count": 18,
   "id": "9fdefc88",
   "metadata": {},
   "outputs": [],
   "source": [
    "acc1.deposite(500)"
   ]
  },
  {
   "cell_type": "code",
   "execution_count": 19,
   "id": "3210b7e2",
   "metadata": {},
   "outputs": [
    {
     "data": {
      "text/plain": [
       "1500"
      ]
     },
     "execution_count": 19,
     "metadata": {},
     "output_type": "execute_result"
    }
   ],
   "source": [
    "acc1.get_balance()"
   ]
  },
  {
   "cell_type": "code",
   "execution_count": 20,
   "id": "25a8f365",
   "metadata": {},
   "outputs": [
    {
     "data": {
      "text/plain": [
       "True"
      ]
     },
     "execution_count": 20,
     "metadata": {},
     "output_type": "execute_result"
    }
   ],
   "source": [
    "acc1.withdraw(100)"
   ]
  },
  {
   "cell_type": "code",
   "execution_count": 21,
   "id": "9c549073",
   "metadata": {},
   "outputs": [
    {
     "data": {
      "text/plain": [
       "1400"
      ]
     },
     "execution_count": 21,
     "metadata": {},
     "output_type": "execute_result"
    }
   ],
   "source": [
    "acc1.get_balance()"
   ]
  },
  {
   "cell_type": "code",
   "execution_count": 22,
   "id": "08d3a5ec",
   "metadata": {},
   "outputs": [
    {
     "data": {
      "text/plain": [
       "False"
      ]
     },
     "execution_count": 22,
     "metadata": {},
     "output_type": "execute_result"
    }
   ],
   "source": [
    "acc1.withdraw(1500)"
   ]
  },
  {
   "cell_type": "code",
   "execution_count": 23,
   "id": "5ad194a7",
   "metadata": {},
   "outputs": [
    {
     "data": {
      "text/plain": [
       "'Nikhil'"
      ]
     },
     "execution_count": 23,
     "metadata": {},
     "output_type": "execute_result"
    }
   ],
   "source": [
    "# protected>>within class and its subclass member can be access,(_).\n",
    "class College:\n",
    "    def __init__(self):\n",
    "        self._college_name=\"PWSkills\"\n",
    "class Student(College):\n",
    "    def __init__(self,name):\n",
    "        self.name=name\n",
    "        College.__init__(self) #accessing variable of base class>>classname__init()__(self)\n",
    "    \n",
    "    def show(self):\n",
    "        print(\"name\",self.name,self._college_name) # directle call the base class\n",
    "\n",
    "stud=Student(\"Nikhil\")\n",
    "stud.name"
   ]
  },
  {
   "cell_type": "code",
   "execution_count": 24,
   "id": "3d001630",
   "metadata": {},
   "outputs": [
    {
     "name": "stdout",
     "output_type": "stream",
     "text": [
      "name Nikhil PWSkills\n"
     ]
    }
   ],
   "source": [
    "stud.show()"
   ]
  },
  {
   "cell_type": "code",
   "execution_count": 25,
   "id": "b0ffbac8",
   "metadata": {},
   "outputs": [
    {
     "data": {
      "text/plain": [
       "'PWSkills'"
      ]
     },
     "execution_count": 25,
     "metadata": {},
     "output_type": "execute_result"
    }
   ],
   "source": [
    "coll=College()\n",
    "coll._college_name # accessing the protected variable"
   ]
  },
  {
   "cell_type": "code",
   "execution_count": null,
   "id": "5fcdac8b",
   "metadata": {},
   "outputs": [
    {
     "name": "stdout",
     "output_type": "stream",
     "text": [
      "name Nikhil College PWSkills\n"
     ]
    }
   ],
   "source": [
    "# another way to access the data of base class using super() class.\n",
    "\n",
    "class College:\n",
    "    def __init__(self):\n",
    "        self._college_name=\"PWSkills\"\n",
    "class Student(College):\n",
    "    def __init__(self,name):\n",
    "        self.name=name\n",
    "        super().__init__() # include super and remove self,base class is super class\n",
    "    def show(self):\n",
    "        print(\"name\",self.name,\"College\",self._college_name) # directly call the base class\n",
    "\n",
    "stud=Student(\"Nikhil\")\n",
    "stud.show()\n"
   ]
  }
 ],
 "metadata": {
  "kernelspec": {
   "display_name": "Python 3",
   "language": "python",
   "name": "python3"
  },
  "language_info": {
   "codemirror_mode": {
    "name": "ipython",
    "version": 3
   },
   "file_extension": ".py",
   "mimetype": "text/x-python",
   "name": "python",
   "nbconvert_exporter": "python",
   "pygments_lexer": "ipython3",
   "version": "3.13.1"
  }
 },
 "nbformat": 4,
 "nbformat_minor": 5
}
