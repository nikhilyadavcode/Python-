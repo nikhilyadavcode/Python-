{
 "cells": [
  {
   "cell_type": "code",
   "execution_count": null,
   "id": "d49d74e2",
   "metadata": {},
   "outputs": [],
   "source": [
    "# task\n",
    "# Write a program to calculate the area of a rectangle by accepting length and bradth.\n",
    "# Assume length as radius of a circle and calculate area of a circle and perimeter of circle.\n",
    "# Divide the area of reactangle by perimete of circle and print using all 4 print() approches.\n",
    "\n",
    "\n"
   ]
  },
  {
   "cell_type": "code",
   "execution_count": null,
   "id": "c416aac9",
   "metadata": {},
   "outputs": [],
   "source": []
  },
  {
   "cell_type": "code",
   "execution_count": 1,
   "id": "f07e3f1d",
   "metadata": {},
   "outputs": [
    {
     "name": "stdout",
     "output_type": "stream",
     "text": [
      "Area of a reactangle is 8 and 4 are 32\n"
     ]
    }
   ],
   "source": [
    "length=8\n",
    "breadth=4\n",
    "area=length*breadth\n",
    "print(f\"Area of a reactangle is {length} and {breadth} are {area}\")"
   ]
  },
  {
   "cell_type": "code",
   "execution_count": 2,
   "id": "482130a6",
   "metadata": {},
   "outputs": [
    {
     "name": "stdout",
     "output_type": "stream",
     "text": [
      "Area of a circle is 452.15999999999997 and perimeter of a circle is 75.36\n"
     ]
    }
   ],
   "source": [
    "length=24\n",
    "radius=length/2\n",
    "area=3.14*radius*radius\n",
    "perimeter=2*3.14*radius\n",
    "print(\"Area of a circle is\",area,\"and perimeter of a circle is\",perimeter)"
   ]
  },
  {
   "cell_type": "code",
   "execution_count": 3,
   "id": "f1fdd6d7",
   "metadata": {},
   "outputs": [
    {
     "name": "stdout",
     "output_type": "stream",
     "text": [
      "Area of a reactangle divide by perimeter of circle is 6.0\n"
     ]
    }
   ],
   "source": [
    "result=area/perimeter\n",
    "print(\"Area of a reactangle divide by perimeter of circle is\",result)"
   ]
  },
  {
   "cell_type": "code",
   "execution_count": 4,
   "id": "1b51a288",
   "metadata": {},
   "outputs": [
    {
     "name": "stdout",
     "output_type": "stream",
     "text": [
      "Total cost (USD): 54480.0\n"
     ]
    }
   ],
   "source": [
    "# Task 1:String to integer conversion A client the number of units as \"1200\"(string).convert it to integer and calculate total cost at 45.5 USD/unit.Hint:Use int() to convert. \n",
    "units_str=\"1200\"\n",
    "units=int(units_str)\n",
    "cost_per_unit=45.4\n",
    "total_cost=units*cost_per_unit\n",
    "print(\"Total cost (USD):\",total_cost)"
   ]
  },
  {
   "cell_type": "code",
   "execution_count": 6,
   "id": "a3ce9833",
   "metadata": {},
   "outputs": [
    {
     "name": "stdout",
     "output_type": "stream",
     "text": [
      "Original value: 25340.75\n",
      "Rounded value: 25340\n"
     ]
    }
   ],
   "source": [
    "# task2:Float to integer conversion Amazon records a purchase value as 25340.75.Convert it to integer to represent rounded-down invoicw value.Print both original and converted values.Hint:Use int() on float.\n",
    "purchase_value=25340.75\n",
    "rounded_value=int(purchase_value)\n",
    "print(\"Original value:\",purchase_value)\n",
    "print(\"Rounded value:\",rounded_value)\n"
   ]
  },
  {
   "cell_type": "code",
   "execution_count": 8,
   "id": "82419f9b",
   "metadata": {},
   "outputs": [
    {
     "name": "stdout",
     "output_type": "stream",
     "text": [
      "Total Units (Addition): 750\n",
      "Difference in Units: 150\n",
      "Total Cost (USD): 18750\n",
      "Order1 Units divided by 12 (Cartons): 25.0\n"
     ]
    }
   ],
   "source": [
    "# task3:Using Arithmetic operators Two clients orderd 300 and 450 units respectively.\n",
    "# Find total units addition\n",
    "# Find difference in units (substraction)\n",
    "# Multiply total units by price per unit 25\n",
    "# Divide order 1 units by 12 (to check carton packing).git\n",
    "\n",
    "order1=300\n",
    "order2=450\n",
    "price_per_unit=25\n",
    "total_units=order1+order2\n",
    "differnce=order2-order1\n",
    "total_cost=total_units*price_per_unit\n",
    "carton_packing=order1/12\n",
    "print(\"Total Units (Addition):\", total_units)\n",
    "print(\"Difference in Units:\", differnce)\n",
    "print(\"Total Cost (USD):\", total_cost)\n",
    "print(\"Order1 Units divided by 12 (Cartons):\", carton_packing)\n"
   ]
  },
  {
   "cell_type": "code",
   "execution_count": 9,
   "id": "8284b128",
   "metadata": {},
   "outputs": [
    {
     "name": "stdout",
     "output_type": "stream",
     "text": [
      "Client A ordered more units.\n"
     ]
    }
   ],
   "source": [
    "# task4:Comarison operators check the following for two clients:\n",
    "# if client A orderd 1500 units and client B orderd 1200,verify who order more.\n",
    "# check if both orderd equla units .Hint use >,<,==\n",
    "clientA=1500\n",
    "clientB=1200\n",
    "if clientA>clientB:\n",
    "    print(\"Client A ordered more units.\")\n",
    "elif clientA<clientB:\n",
    "    print(\"Client B ordered more units.\")\n",
    "else:\n",
    "    print(\"Both clients ordered equal units.\")\n",
    "    "
   ]
  },
  {
   "cell_type": "code",
   "execution_count": 10,
   "id": "ae8e4ae5",
   "metadata": {},
   "outputs": [
    {
     "name": "stdout",
     "output_type": "stream",
     "text": [
      "TechSupply qualifies for the discount.\n"
     ]
    }
   ],
   "source": [
    "# task 5:Logical operators A retailer has following discount policy:\n",
    "# they order more than 1000 units and\n",
    "# they are a premium member(true)\n",
    "#write a program to check if the client \"techSupply\" with 1200 units and premium membership qualifies .Hint:use and,or,not.else\n",
    "\n",
    "client_name = \"TechSupply\"\n",
    "units = 1200\n",
    "premium_member = True\n",
    "\n",
    "\n",
    "if units > 1000 and premium_member:\n",
    "    print(client_name, \"qualifies for the discount.\")\n",
    "else:\n",
    "    print(client_name, \"does NOT qualify for the discount.\")\n"
   ]
  }
 ],
 "metadata": {
  "kernelspec": {
   "display_name": "Python 3",
   "language": "python",
   "name": "python3"
  },
  "language_info": {
   "codemirror_mode": {
    "name": "ipython",
    "version": 3
   },
   "file_extension": ".py",
   "mimetype": "text/x-python",
   "name": "python",
   "nbconvert_exporter": "python",
   "pygments_lexer": "ipython3",
   "version": "3.13.1"
  }
 },
 "nbformat": 4,
 "nbformat_minor": 5
}
