{
 "cells": [
  {
   "cell_type": "code",
   "execution_count": 1,
   "id": "c29faee9",
   "metadata": {},
   "outputs": [
    {
     "name": "stdout",
     "output_type": "stream",
     "text": [
      "First fruit: apple\n",
      "Last fruit: elderberry\n"
     ]
    }
   ],
   "source": [
    "# Create a list of your favoritefruits and print the first and last fruit using indexing.\n",
    "favorite_fruits = [\"apple\", \"banana\", \"cherry\", \"date\", \"elderberry\"]\n",
    "print(\"First fruit:\",favorite_fruits[0])\n",
    "print(\"Last fruit:\",favorite_fruits[4])"
   ]
  },
  {
   "cell_type": "code",
   "execution_count": null,
   "id": "0dc9c9b9",
   "metadata": {},
   "outputs": [
    {
     "name": "stdout",
     "output_type": "stream",
     "text": [
      "Movies from index 1 to 3: ('The Dark Knight', 'Interstellar', 'Pulp Fiction')\n",
      "Inception\n"
     ]
    }
   ],
   "source": [
    "# Create a touple of your top 5 movies and print the movies from index 1 to 3 using slicing.\n",
    "top_movies = (\"Inception\", \"The Dark Knight\", \"Interstellar\", \"Pulp Fiction\", \"The Matrix\")\n",
    "print(\"Movies from index 1 to 3:\",top_movies[1:4])\n"
   ]
  },
  {
   "cell_type": "code",
   "execution_count": 4,
   "id": "a47bd643",
   "metadata": {},
   "outputs": [
    {
     "name": "stdout",
     "output_type": "stream",
     "text": [
      "First 5 characters of full name: Nikhi\n"
     ]
    }
   ],
   "source": [
    "# Create a string with your full name and print the first 5 characters using slicing.\n",
    "\n",
    "full_name=\"Nikhil Yadav\"\n",
    "print(\"First 5 characters of full name:\",full_name[0:5])"
   ]
  },
  {
   "cell_type": "code",
   "execution_count": 5,
   "id": "4864ef95",
   "metadata": {},
   "outputs": [
    {
     "name": "stdout",
     "output_type": "stream",
     "text": [
      "Color from index 2 to 4: ['Green', 'Yellow', 'Black']\n"
     ]
    }
   ],
   "source": [
    "#Create a List of your favorite colors and print the color from index 2 to 4 using slicing.\n",
    "\n",
    "favoriate_colors=[\"Red\",\"Blue\",\"Green\",\"Yellow\",\"Black\",\"white\"]\n",
    "print(\"Color from index 2 to 4:\",favoriate_colors[2:5])"
   ]
  },
  {
   "cell_type": "code",
   "execution_count": 6,
   "id": "58a9ce6b",
   "metadata": {},
   "outputs": [
    {
     "name": "stdout",
     "output_type": "stream",
     "text": [
      "Last travel destination: New Zeland\n"
     ]
    }
   ],
   "source": [
    "# Create a touple of your top 3 travel destinations and print the last destination using negative indexing.\n",
    "travel_destination=(\"Paris\",\"New York\",\"U.K\",\"Australia\",\"New Zeland\")\n",
    "print(\"Last travel destination:\",travel_destination[-1])"
   ]
  },
  {
   "cell_type": "code",
   "execution_count": 7,
   "id": "e1a7ae57",
   "metadata": {},
   "outputs": [
    {
     "name": "stdout",
     "output_type": "stream",
     "text": [
      "Characters from index 10 to 20: e Depends o\n"
     ]
    }
   ],
   "source": [
    "# Create a String with your favourite quote and print the characters from index 10 to 20 using slicing.\n",
    "favorite_fruits=\"Your Future Depends on what you do today\"\n",
    "print(\"Characters from index 10 to 20:\",favorite_fruits[10:21])"
   ]
  },
  {
   "cell_type": "code",
   "execution_count": 8,
   "id": "412235a5",
   "metadata": {},
   "outputs": [
    {
     "name": "stdout",
     "output_type": "stream",
     "text": [
      "Numbers from index 1 to 5 with a step of 2: [2, 4, 6]\n"
     ]
    }
   ],
   "source": [
    "# Create a list of your favorite numbers and print the number from index 1 to 5 with a step of 2 using slicing.\n",
    "favorite_numbers=[1,2,3,4,5,6,7,8,9,10]\n",
    "print(\"Numbers from index 1 to 5 with a step of 2:\",favorite_numbers[1:6:2])"
   ]
  },
  {
   "cell_type": "code",
   "execution_count": 1,
   "id": "730c07ee",
   "metadata": {},
   "outputs": [
    {
     "name": "stdout",
     "output_type": "stream",
     "text": [
      "ytho\n"
     ]
    }
   ],
   "source": [
    "word=\"python\"\n",
    "print(word[1:5])"
   ]
  },
  {
   "cell_type": "code",
   "execution_count": 3,
   "id": "7fd7872b",
   "metadata": {},
   "outputs": [
    {
     "name": "stdout",
     "output_type": "stream",
     "text": [
      "Hello, \n"
     ]
    }
   ],
   "source": [
    "name = input(\"Enter your name: \")\n",
    "print(\"Hello, \" + name)\n"
   ]
  },
  {
   "cell_type": "code",
   "execution_count": 4,
   "id": "e1658d1b",
   "metadata": {},
   "outputs": [
    {
     "name": "stdout",
     "output_type": "stream",
     "text": [
      "3\n"
     ]
    }
   ],
   "source": [
    "x={1,2,3,3,2}\n",
    "print(len(x))"
   ]
  },
  {
   "cell_type": "code",
   "execution_count": null,
   "id": "2664909f",
   "metadata": {},
   "outputs": [],
   "source": [
    "t1=(1,2,3)\n",
    "t2=(4,5,6)\n",
    "print(t1+t2)"
   ]
  },
  {
   "cell_type": "code",
   "execution_count": null,
   "id": "d1fb6a28",
   "metadata": {},
   "outputs": [],
   "source": [
    "squares={x:x**2 for x in range(3)}\n",
    "print(squares)"
   ]
  }
 ],
 "metadata": {
  "kernelspec": {
   "display_name": "Python 3",
   "language": "python",
   "name": "python3"
  },
  "language_info": {
   "codemirror_mode": {
    "name": "ipython",
    "version": 3
   },
   "file_extension": ".py",
   "mimetype": "text/x-python",
   "name": "python",
   "nbconvert_exporter": "python",
   "pygments_lexer": "ipython3",
   "version": "3.13.1"
  }
 },
 "nbformat": 4,
 "nbformat_minor": 5
}
