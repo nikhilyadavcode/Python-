{
 "cells": [
  {
   "cell_type": "code",
   "execution_count": 3,
   "id": "73cb6bfe",
   "metadata": {},
   "outputs": [
    {
     "name": "stdout",
     "output_type": "stream",
     "text": [
      "5.0\n",
      "120\n",
      "2.302585092994046\n"
     ]
    }
   ],
   "source": [
    "import math as m\n",
    "print(m.sqrt(25))\n",
    "print(m.factorial(5))\n",
    "print(m.log(10))"
   ]
  },
  {
   "cell_type": "code",
   "execution_count": 44,
   "id": "5186807d",
   "metadata": {},
   "outputs": [
    {
     "name": "stdout",
     "output_type": "stream",
     "text": [
      "Congratulations! You have won a discount of 58.025% on your purchase\n",
      "You rolled a 6 on the dice\n",
      "Congratulation Aditya! you are the winner of the contest\n",
      "Shuffle deck cards: ['8', 'K', '7', 'A', '3', 'J', 'Q', '10', '2', '4', '6', '5', '9']\n"
     ]
    }
   ],
   "source": [
    "import random as rnd\n",
    "discount_percentage=rnd.random()*100\n",
    "print(f\"Congratulations! You have won a discount of {discount_percentage:.3f}% on your purchase\")\n",
    "\n",
    "dice_roll=rnd.randint(1,6)\n",
    "print(f\"You rolled a {dice_roll} on the dice\")\n",
    "\n",
    "# the difference between random and randint is :-\n",
    "# random:-random can not takes the any arguments.\n",
    "# randint:-randint can takes the arguments.\n",
    "\n",
    "participants=['Alakh','Darshan','Nikhil','Mohit','Aditya','deveshwar','devender','Rohit']\n",
    "winner=rnd.choice(participants)\n",
    "print(f\"Congratulation {winner}! you are the winner of the contest\")\n",
    "\n",
    "deck_of_cards=['2','3','4','5','6','7','8','9','10','J','Q','K','A']\n",
    "rnd.shuffle(deck_of_cards)\n",
    "print(\"Shuffle deck cards:\",deck_of_cards)"
   ]
  },
  {
   "cell_type": "code",
   "execution_count": 47,
   "id": "4a6632d3",
   "metadata": {},
   "outputs": [
    {
     "name": "stdout",
     "output_type": "stream",
     "text": [
      "The average score of the class is:83.6\n",
      "Averahe mediun of a group is:83\n"
     ]
    }
   ],
   "source": [
    "import statistics as stats\n",
    "score=[80,89,82,84,83]\n",
    "average_score=stats.mean(score)\n",
    "print(f\"The average score of the class is:{average_score}\")\n",
    "\n",
    "medium_score=stats.median(score)\n",
    "print(f\"Averahe mediun of a group is:{medium_score}\")"
   ]
  },
  {
   "cell_type": "code",
   "execution_count": 49,
   "id": "77a3ef33",
   "metadata": {},
   "outputs": [
    {
     "name": "stdout",
     "output_type": "stream",
     "text": [
      "Total learning hours is 60\n"
     ]
    }
   ],
   "source": [
    "### Task 1 – PW Skills Course Duration\n",
    "\n",
    "#Write a function `course_duration(course_name, hours_per_day, total_days)` that prints the total learning hours for a given course.\n",
    "#Example: `course_duration(\"Python Mastery\", 2, 30)` → “Total hours = 60 for Python Mastery.”\n",
    "\n",
    "def course_duration(course_name,hours_per_day,total_days):\n",
    "    total_hours=hours_per_day*total_days\n",
    "    print(f\"Total learning hours is {total_hours}\")\n",
    "\n",
    "course_duration(\"Python Mastery\", 2, 30)"
   ]
  },
  {
   "cell_type": "code",
   "execution_count": 53,
   "id": "12e88446",
   "metadata": {},
   "outputs": [
    {
     "name": "stdout",
     "output_type": "stream",
     "text": [
      "The final fees after the discount 42500.0\n"
     ]
    }
   ],
   "source": [
    "### Task 2 – Simplilearn Course Fee Calculator\n",
    "\n",
    "#Define a function `course_fee(course, base_fee, discount=0)` that prints the final payable fee after applying the discount.\n",
    "#Example: `course_fee(\"Data Science\", 50000, 15)` → “Final fee = 42500 INR.”\n",
    "\n",
    "def course_fee(course,base_fee,discount):\n",
    "    Final_fee=base_fee*(discount/100)\n",
    "    result=base_fee-Final_fee\n",
    "    print(f\"The final fees after the discount {result}\")\n",
    "\n",
    "course_fee(\"Data Science\",50000,15)"
   ]
  },
  {
   "cell_type": "code",
   "execution_count": 54,
   "id": "d394f922",
   "metadata": {},
   "outputs": [
    {
     "name": "stdout",
     "output_type": "stream",
     "text": [
      "Ananya is eligible the course\n"
     ]
    }
   ],
   "source": [
    "### Task 3 – Great Learning Eligibility Check\n",
    "\n",
    "#Write a function `check_eligibility(name, experience_years)` that prints whether a learner is eligible for an advanced course (eligibility: experience ≥ 2 years).\n",
    "#Example: `check_eligibility(\"Ananya\", 3)` → “Ananya is eligible for Advanced AI Program.”\n",
    "\n",
    "def check_eligibility(name,experience_year):\n",
    "    if experience_year>=2:\n",
    "        print(f\"{name} is eligible the course\")\n",
    "\n",
    "check_eligibility(\"Ananya\",2)"
   ]
  },
  {
   "cell_type": "code",
   "execution_count": 56,
   "id": "00cde48d",
   "metadata": {},
   "outputs": [
    {
     "name": "stdout",
     "output_type": "stream",
     "text": [
      "AI Pro is higher\n"
     ]
    }
   ],
   "source": [
    "### Task 4 – UpGrad Price Comparison\n",
    "\n",
    "#Define a function `compare_courses(course1, price1, course2, price2)` that prints which course is cheaper.\n",
    "#Example: `compare_courses(\"AI Pro\", 75000, \"ML Expert\", 70000)` → “ML Expert is cheaper.”\n",
    "\n",
    "def compare_courses(course1,price1,course2,price2):\n",
    "    if price1>price2:\n",
    "        print(f\"{course1} is higher\")\n",
    "    else:\n",
    "        print(f\"{course2} is cheaper\")\n",
    "\n",
    "compare_courses(\"AI Pro\", 75000, \"ML Expert\", 70000)"
   ]
  },
  {
   "cell_type": "code",
   "execution_count": 58,
   "id": "1ae3e787",
   "metadata": {},
   "outputs": [
    {
     "name": "stdout",
     "output_type": "stream",
     "text": [
      "Average of rating is:4.8\n"
     ]
    }
   ],
   "source": [
    "### Task 5 – Imarticus Instructor Rating\n",
    "\n",
    "#Write a function `average_rating(name, r1, r2, r3)` that returns the average rating of an instructor.\n",
    "#Example: `average_rating(\"Rahul\", 4.7, 4.8, 4.9)` → returns `4.8`\n",
    "\n",
    "def average_rating(name,r1,r2,r3):\n",
    "    average=(r1+r2+r3)/3\n",
    "    print(f\"Average of rating is:{average}\")\n",
    "\n",
    "average_rating(\"Rahul\",4.7,4.8,4.9)"
   ]
  },
  {
   "cell_type": "code",
   "execution_count": 60,
   "id": "ba62858d",
   "metadata": {},
   "outputs": [
    {
     "name": "stdout",
     "output_type": "stream",
     "text": [
      "Eligible is Scholarshio \n"
     ]
    }
   ],
   "source": [
    "### Task 6 – Emeritus Scholarship Checker\n",
    "\n",
    "#Define a function `scholarship_status(score)` that prints “Eligible for Scholarship” if score ≥ 85, otherwise “Not Eligible.”\n",
    "#Example: `scholarship_status(90)` → “Eligible for Scholarship.”\n",
    "\n",
    "def scholarship_status(score):\n",
    "    if score>=85:\n",
    "        print(f\"Eligible is Scholarshio \")\n",
    "    else:\n",
    "        print(\"Not eligible to scholarship\")\n",
    "\n",
    "scholarship_status(90)\n"
   ]
  },
  {
   "cell_type": "code",
   "execution_count": 61,
   "id": "017a34ff",
   "metadata": {},
   "outputs": [
    {
     "name": "stdout",
     "output_type": "stream",
     "text": [
      "Batch Full stack development is Online\n"
     ]
    }
   ],
   "source": [
    "### Task 7 – PW Skills Batch Mode\n",
    "\n",
    "#Define `batch_type(batch_name, mode=\"Online\")` and print “Batch <name> is <mode>.”\n",
    "#Example: `batch_type(\"Full Stack Development\")` → “Batch Full Stack Development is Online.”\n",
    "\n",
    "def batch_type(batch_name,mode=\"Online\"):\n",
    "    print(f\"Batch {batch_name} is {mode}\")\n",
    "\n",
    "batch_type(\"Full stack development\")"
   ]
  },
  {
   "cell_type": "code",
   "execution_count": 62,
   "id": "0c560a45",
   "metadata": {},
   "outputs": [
    {
     "name": "stdout",
     "output_type": "stream",
     "text": [
      "Bonous Approved\n"
     ]
    }
   ],
   "source": [
    "\n",
    "### Task 8 – Great Learning Instructor Bonus\n",
    "\n",
    "#Create a function `instructor_bonus(hours)` that returns `\"Bonus Approved\"` if hours > 60, else `\"Bonus Denied\"`.\n",
    "#Example: `instructor_bonus(72)` → returns `\"Bonus Approved\"`\n",
    "\n",
    "def instructor_bonus(hours):\n",
    "    if hours>60:\n",
    "        print(\"Bonous Approved\")\n",
    "    else:\n",
    "        print(\"Bonus Denied\")\n",
    "\n",
    "instructor_bonus(72)"
   ]
  },
  {
   "cell_type": "code",
   "execution_count": 63,
   "id": "c8027666",
   "metadata": {},
   "outputs": [
    {
     "name": "stdout",
     "output_type": "stream",
     "text": [
      "Congratulation Neha on completing the Data Analytics program with upGrad.\n"
     ]
    }
   ],
   "source": [
    "### Task 9 – UpGrad Certificate Printer\n",
    "\n",
    "#Define `certificate(name, course)` that prints a message:\n",
    "#“Congratulations <name> on completing the <course> program with UpGrad.”\n",
    "#Example: `certificate(\"Neha\", \"Data Analytics\")`\n",
    "\n",
    "def certificate(name,course):\n",
    "    print(f\"Congratulation {name} on completing the {course} program with upGrad.\")\n",
    "\n",
    "certificate(\"Neha\",\"Data Analytics\")"
   ]
  },
  {
   "cell_type": "code",
   "execution_count": 65,
   "id": "44c20289",
   "metadata": {},
   "outputs": [
    {
     "name": "stdout",
     "output_type": "stream",
     "text": [
      "The monthly installment amount 10000.0\n"
     ]
    }
   ],
   "source": [
    "### Task 10 – Simplilearn EMI Calculator\n",
    "\n",
    "#Write a function `emi_per_month(total_fee, months)` that returns the monthly installment amount.\n",
    "#Example: `emi_per_month(60000, 6)` → returns `10000.0`\n",
    "\n",
    "def emi_per_month(toatl_fee,months):\n",
    "    fees=toatl_fee/months\n",
    "    print(f\"The monthly installment amount {fees}\")\n",
    "\n",
    "emi_per_month(60000,6)"
   ]
  }
 ],
 "metadata": {
  "kernelspec": {
   "display_name": "Python 3",
   "language": "python",
   "name": "python3"
  },
  "language_info": {
   "codemirror_mode": {
    "name": "ipython",
    "version": 3
   },
   "file_extension": ".py",
   "mimetype": "text/x-python",
   "name": "python",
   "nbconvert_exporter": "python",
   "pygments_lexer": "ipython3",
   "version": "3.13.1"
  }
 },
 "nbformat": 4,
 "nbformat_minor": 5
}
